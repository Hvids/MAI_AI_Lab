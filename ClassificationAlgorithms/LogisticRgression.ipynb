{
 "cells": [
  {
   "cell_type": "code",
   "execution_count": 3,
   "metadata": {},
   "outputs": [],
   "source": [
    "import sys\n",
    "sys.path.append('./modules/')\n",
    "import warnings\n",
    "warnings.simplefilter(\"ignore\")\n",
    "\n",
    "import numpy as np\n",
    "import pandas as pd\n",
    "from logistic_regression import LogisticRegression\n",
    "\n",
    "from sklearn.model_selection import KFold\n",
    "from sklearn.model_selection import train_test_split\n",
    "from sklearn.metrics import precision_score, accuracy_score, roc_auc_score"
   ]
  },
  {
   "cell_type": "code",
   "execution_count": 4,
   "metadata": {},
   "outputs": [],
   "source": [
    "def cross_val_score(model, X,y):\n",
    "    acc_scores = []\n",
    "    prec_scores = []\n",
    "    roc_scores = []\n",
    "    \n",
    "    kf = KFold(n_splits=5)\n",
    "    for train_index, test_index in kf.split(X):\n",
    "        X_train, X_test = X[train_index], X[test_index]\n",
    "        y_train, y_test = y[train_index], y[test_index]\n",
    "        model.fit(X_train,y_train)\n",
    "        y_pred = model.predict_classes(X_test)\n",
    "        acc_score = accuracy_score(y_test,y_pred)\n",
    "        prec_score = precision_score(y_test,y_pred)\n",
    "        roc_score = roc_auc_score(y_test,y_pred)\n",
    "        acc_scores.append(acc_score)\n",
    "        prec_scores.append(prec_score)\n",
    "        roc_scores.append(roc_score)\n",
    "\n",
    "    score = np.mean(acc_scores), np.mean(prec_scores), np.mean(roc_scores)\n",
    "    return score\n",
    "    \n"
   ]
  },
  {
   "cell_type": "code",
   "execution_count": 5,
   "metadata": {},
   "outputs": [],
   "source": [
    "data = pd.read_csv('./data/hotel_data_review.csv')\n",
    "X = data.drop(['is_canceled'],axis=1).values\n",
    "y = data['is_canceled'].values\n",
    "X_train, X_test, y_train, y_test = train_test_split(X,y, random_state= 42)"
   ]
  },
  {
   "cell_type": "markdown",
   "metadata": {},
   "source": [
    "# Implemented Logistic Regression"
   ]
  },
  {
   "cell_type": "code",
   "execution_count": 6,
   "metadata": {},
   "outputs": [],
   "source": [
    "def check_retrain(model,X_train,X_test,y_train,y_test):\n",
    "    model.fit(X_train,y_train)\n",
    "    y_pred_test = model.predict_classes(X_test)\n",
    "    y_pred_train = model.predict_classes(X_train)\n",
    "    acc = accuracy_score(y_pred_train,y_train), accuracy_score(y_pred_test,y_test)\n",
    "    prec = precision_score(y_pred_train,y_train), precision_score(y_pred_test,y_test)\n",
    "    roc= roc_auc_score(y_pred_train,y_train),roc_auc_score(y_pred_test,y_test)\n",
    "    print('Ошибки на Train --- Test выборках')\n",
    "    print(f'accuracy = {acc[0]} --- {acc[1]}')\n",
    "    print(f'precision = {prec[0]} --- {prec[1]}' )\n",
    "    print(f'roc auc = {roc[0]} --- {roc[1]}')\n",
    "    \n",
    "def print_error_validation(accuracy,precission,roc_auc):\n",
    "    print('Ошибки на валидации')\n",
    "    print(f'accuracy = {accuracy}')\n",
    "    print(f'precision = {precision}')\n",
    "    print(f'roc auc = {roc_auc}')\n",
    "def search_parametrs_C(penalty,C_list):\n",
    "    best_C = None\n",
    "    best_roc = -10\n",
    "    \n",
    "    for C in C_list:\n",
    "        lr = LogisticRegression(penalty=penalty, C=C)\n",
    "        accuracy,precision,roc_auc = cross_val_score(lr,X,y)\n",
    "        if roc_auc > best_roc:\n",
    "            best_C = C\n",
    "    return best_C"
   ]
  },
  {
   "cell_type": "markdown",
   "metadata": {},
   "source": [
    "## Without regularization"
   ]
  },
  {
   "cell_type": "code",
   "execution_count": 9,
   "metadata": {},
   "outputs": [],
   "source": [
    "lr = LogisticRegression()"
   ]
  },
  {
   "cell_type": "code",
   "execution_count": 11,
   "metadata": {},
   "outputs": [
    {
     "name": "stdout",
     "output_type": "stream",
     "text": [
      "Ошибки на валидации\n",
      "accuracy = 0.6338100909322868\n",
      "precision = 0.584378671285857\n",
      "roc auc = 0.5692628608657975\n"
     ]
    }
   ],
   "source": [
    "accuracy,precision,roc_auc = cross_val_score(lr,X,y)\n",
    "print_error_validation(accuracy,precision,roc_auc)"
   ]
  },
  {
   "cell_type": "code",
   "execution_count": 10,
   "metadata": {},
   "outputs": [
    {
     "name": "stdout",
     "output_type": "stream",
     "text": [
      "Ошибки на Train --- Test выборках\n",
      "accuracy = 0.7244918809120302 --- 0.7234802048027692\n",
      "precision = 0.3806966299192814 --- 0.3814297760704582\n",
      "roc auc = 0.7502104845361435 --- 0.7500780201265398\n"
     ]
    }
   ],
   "source": [
    "check_retrain(lr,X_train,X_test, y_train, y_test)"
   ]
  },
  {
   "cell_type": "markdown",
   "metadata": {},
   "source": [
    "## L1 regularization"
   ]
  },
  {
   "cell_type": "markdown",
   "metadata": {},
   "source": [
    "### Настройка параметров"
   ]
  },
  {
   "cell_type": "code",
   "execution_count": 15,
   "metadata": {},
   "outputs": [],
   "source": [
    "C = search_parametrs_C(penalty='l1', C_list=np.arange(0.05,1.05,0.05))"
   ]
  },
  {
   "cell_type": "code",
   "execution_count": 16,
   "metadata": {},
   "outputs": [
    {
     "name": "stdout",
     "output_type": "stream",
     "text": [
      "C = 1.0\n"
     ]
    }
   ],
   "source": [
    "print(f'C = {C}')"
   ]
  },
  {
   "cell_type": "markdown",
   "metadata": {},
   "source": [
    "### Обучение"
   ]
  },
  {
   "cell_type": "code",
   "execution_count": 12,
   "metadata": {},
   "outputs": [],
   "source": [
    "lr_l1 = LogisticRegression(penalty='l1',C=С)"
   ]
  },
  {
   "cell_type": "code",
   "execution_count": 9,
   "metadata": {},
   "outputs": [
    {
     "name": "stdout",
     "output_type": "stream",
     "text": [
      "Ошибки на валидации\n",
      "accuracy = 0.5780922833004926\n",
      "precision = 0.5042834802615656\n",
      "roc auc = 0.6039025344644553\n"
     ]
    }
   ],
   "source": [
    "accuracy,precision,roc_auc = cross_val_score(lr_l1,X,y)\n",
    "print_error_validation(accuracy,precision,roc_auc)"
   ]
  },
  {
   "cell_type": "code",
   "execution_count": 13,
   "metadata": {},
   "outputs": [
    {
     "name": "stdout",
     "output_type": "stream",
     "text": [
      "Ошибки на Train --- Test выборках\n",
      "accuracy = 0.6726402961574057 --- 0.6690704550371386\n",
      "precision = 0.21913376676403154 --- 0.2154970486273775\n",
      "roc auc = 0.7047294546034382 --- 0.7003878294633096\n"
     ]
    }
   ],
   "source": [
    "check_retrain(lr_l1,X_train,X_test, y_train, y_test)\n"
   ]
  },
  {
   "cell_type": "markdown",
   "metadata": {},
   "source": [
    "## L2 regularization"
   ]
  },
  {
   "cell_type": "markdown",
   "metadata": {},
   "source": [
    "### Настройка параметров"
   ]
  },
  {
   "cell_type": "code",
   "execution_count": 17,
   "metadata": {},
   "outputs": [],
   "source": [
    "C = search_parametrs_C(penalty='l2', C_list=np.arange(0.05,1.05,0.05))"
   ]
  },
  {
   "cell_type": "code",
   "execution_count": 18,
   "metadata": {},
   "outputs": [
    {
     "name": "stdout",
     "output_type": "stream",
     "text": [
      "C = 1.0\n"
     ]
    }
   ],
   "source": [
    "print(f'C = {C}')"
   ]
  },
  {
   "cell_type": "markdown",
   "metadata": {},
   "source": [
    "### Обучение"
   ]
  },
  {
   "cell_type": "code",
   "execution_count": 16,
   "metadata": {},
   "outputs": [],
   "source": [
    "lr_l2 = LogisticRegression(penalty='l2',C=С)\n"
   ]
  },
  {
   "cell_type": "code",
   "execution_count": 12,
   "metadata": {},
   "outputs": [
    {
     "name": "stdout",
     "output_type": "stream",
     "text": [
      "Ошибки на валидации\n",
      "accuracy = 0.6162504865352665\n",
      "precision = 0.5184112372925739\n",
      "roc auc = 0.6100648645608078\n"
     ]
    }
   ],
   "source": [
    "accuracy,precision,roc_auc = cross_val_score(lr_l1,X,y)\n",
    "print_error_validation(accuracy,precision,roc_auc)"
   ]
  },
  {
   "cell_type": "code",
   "execution_count": 17,
   "metadata": {},
   "outputs": [
    {
     "name": "stdout",
     "output_type": "stream",
     "text": [
      "Ошибки на Train --- Test выборках\n",
      "accuracy = 0.6284931309270544 --- 0.6296964015288095\n",
      "precision = 0.8235811426238261 --- 0.819450950997845\n",
      "roc auc = 0.6658751793238991 --- 0.6653836279059693\n"
     ]
    }
   ],
   "source": [
    "check_retrain(lr_l2,X_train,X_test, y_train, y_test)"
   ]
  },
  {
   "cell_type": "markdown",
   "metadata": {},
   "source": [
    "# Sklearn Logistic Regression"
   ]
  },
  {
   "cell_type": "code",
   "execution_count": 25,
   "metadata": {},
   "outputs": [],
   "source": [
    "from sklearn.linear_model import LogisticRegression\n",
    "from sklearn.model_selection import cross_val_score\n",
    "from sklearn.model_selection import cross_validate\n",
    "from sklearn.model_selection import GridSearchCV\n",
    "scoring = ['precision_macro', 'roc_auc','accuracy']\n",
    "scoring_test = ['test_accuracy','test_precision_macro','test_roc_auc']"
   ]
  },
  {
   "cell_type": "code",
   "execution_count": 26,
   "metadata": {},
   "outputs": [],
   "source": [
    "def check_retrain(model,X_train,X_test,y_train,y_test):\n",
    "    model.fit(X_train,y_train)\n",
    "    y_pred_test = model.predict(X_test)\n",
    "    y_pred_train = model.predict(X_train)\n",
    "    acc = accuracy_score(y_pred_train,y_train), accuracy_score(y_pred_test,y_test)\n",
    "    prec = precision_score(y_pred_train,y_train), precision_score(y_pred_test,y_test)\n",
    "    roc= roc_auc_score(y_pred_train,y_train),roc_auc_score(y_pred_test,y_test)\n",
    "    print('Ошибки на Train --- Test выборках')\n",
    "    print(f'accuracy = {acc[0]} --- {acc[1]}')\n",
    "    print(f'precision = {prec[0]} --- {prec[1]}' )\n",
    "    print(f'roc auc = {roc[0]} --- {roc[1]}')\n",
    "    "
   ]
  },
  {
   "cell_type": "markdown",
   "metadata": {},
   "source": [
    "## Without regularization"
   ]
  },
  {
   "cell_type": "code",
   "execution_count": 27,
   "metadata": {},
   "outputs": [],
   "source": [
    "clf = LogisticRegression(penalty='none',random_state=42)\n",
    "scores = cross_validate(clf,X,y,cv=5,scoring=scoring)"
   ]
  },
  {
   "cell_type": "code",
   "execution_count": 28,
   "metadata": {},
   "outputs": [
    {
     "name": "stdout",
     "output_type": "stream",
     "text": [
      "Ошибки на валидации\n",
      "test_accuracy = 0.6762188692443609\n",
      "test_precision_macro = 0.6627387972147134\n",
      "test_roc_auc = 0.7317061087095794\n"
     ]
    }
   ],
   "source": [
    "print('Ошибки на валидации')\n",
    "for score in scoring_test:\n",
    "    print(f'{score} = {np.mean(scores[score])}')"
   ]
  },
  {
   "cell_type": "code",
   "execution_count": 29,
   "metadata": {},
   "outputs": [
    {
     "name": "stdout",
     "output_type": "stream",
     "text": [
      "Ошибки на Train --- Test выборках\n",
      "accuracy = 0.7281818291085229 --- 0.7276988533929473\n",
      "precision = 0.4978799585414115 --- 0.49554951747399983\n",
      "roc auc = 0.7209326461509085 --- 0.7218719739255142\n"
     ]
    }
   ],
   "source": [
    "check_retrain(clf,X_train,X_test, y_train, y_test)"
   ]
  },
  {
   "cell_type": "markdown",
   "metadata": {},
   "source": [
    "## L1 regularization"
   ]
  },
  {
   "cell_type": "markdown",
   "metadata": {},
   "source": [
    "### Настройка параметров"
   ]
  },
  {
   "cell_type": "code",
   "execution_count": 30,
   "metadata": {},
   "outputs": [],
   "source": [
    "clf_l1 = LogisticRegression(penalty='l1',random_state=42,solver='saga')\n",
    "parameters = {'C':np.arange(0.05,1,0.05)}\n",
    "clf_cv = GridSearchCV(clf_l1, parameters)\n"
   ]
  },
  {
   "cell_type": "code",
   "execution_count": 31,
   "metadata": {},
   "outputs": [
    {
     "data": {
      "text/plain": [
       "GridSearchCV(cv=None, error_score=nan,\n",
       "             estimator=LogisticRegression(C=1.0, class_weight=None, dual=False,\n",
       "                                          fit_intercept=True,\n",
       "                                          intercept_scaling=1, l1_ratio=None,\n",
       "                                          max_iter=100, multi_class='auto',\n",
       "                                          n_jobs=None, penalty='l1',\n",
       "                                          random_state=42, solver='saga',\n",
       "                                          tol=0.0001, verbose=0,\n",
       "                                          warm_start=False),\n",
       "             iid='deprecated', n_jobs=None,\n",
       "             param_grid={'C': array([0.05, 0.1 , 0.15, 0.2 , 0.25, 0.3 , 0.35, 0.4 , 0.45, 0.5 , 0.55,\n",
       "       0.6 , 0.65, 0.7 , 0.75, 0.8 , 0.85, 0.9 , 0.95])},\n",
       "             pre_dispatch='2*n_jobs', refit=True, return_train_score=False,\n",
       "             scoring=None, verbose=0)"
      ]
     },
     "execution_count": 31,
     "metadata": {},
     "output_type": "execute_result"
    }
   ],
   "source": [
    "clf_cv.fit(X,y)"
   ]
  },
  {
   "cell_type": "code",
   "execution_count": 32,
   "metadata": {},
   "outputs": [
    {
     "data": {
      "text/plain": [
       "LogisticRegression(C=0.5, class_weight=None, dual=False, fit_intercept=True,\n",
       "                   intercept_scaling=1, l1_ratio=None, max_iter=100,\n",
       "                   multi_class='auto', n_jobs=None, penalty='l1',\n",
       "                   random_state=42, solver='saga', tol=0.0001, verbose=0,\n",
       "                   warm_start=False)"
      ]
     },
     "execution_count": 32,
     "metadata": {},
     "output_type": "execute_result"
    }
   ],
   "source": [
    "clf_cv.best_estimator_"
   ]
  },
  {
   "cell_type": "code",
   "execution_count": 33,
   "metadata": {},
   "outputs": [],
   "source": [
    "C = 0.5"
   ]
  },
  {
   "cell_type": "markdown",
   "metadata": {},
   "source": [
    "### Обучение"
   ]
  },
  {
   "cell_type": "code",
   "execution_count": 34,
   "metadata": {},
   "outputs": [],
   "source": [
    "clf_l1 = LogisticRegression(penalty='l1',C = C, random_state=42,solver='saga')\n",
    "scores = cross_validate(clf,X,y,cv=5,scoring=scoring)"
   ]
  },
  {
   "cell_type": "code",
   "execution_count": 35,
   "metadata": {},
   "outputs": [
    {
     "name": "stdout",
     "output_type": "stream",
     "text": [
      "Ошибки на валидации\n",
      "test_accuracy = 0.6762188692443609\n",
      "test_precision_macro = 0.6627387972147134\n",
      "test_roc_auc = 0.7317061087095794\n"
     ]
    }
   ],
   "source": [
    "print('Ошибки на валидации')\n",
    "for score in scoring_test:\n",
    "    print(f'{score} = {np.mean(scores[score])}')"
   ]
  },
  {
   "cell_type": "code",
   "execution_count": 36,
   "metadata": {},
   "outputs": [
    {
     "name": "stdout",
     "output_type": "stream",
     "text": [
      "Ошибки на Train --- Test выборках\n",
      "accuracy = 0.7279294222286325 --- 0.7291411264152304\n",
      "precision = 0.5057947799868087 --- 0.5047315656329054\n",
      "roc auc = 0.719308471615182 --- 0.7224474054654223\n"
     ]
    }
   ],
   "source": [
    "check_retrain(clf_l1,X_train,X_test, y_train, y_test)"
   ]
  },
  {
   "cell_type": "code",
   "execution_count": 37,
   "metadata": {},
   "outputs": [],
   "source": [
    "С = 0.5"
   ]
  },
  {
   "cell_type": "markdown",
   "metadata": {},
   "source": [
    "## L2 regularization"
   ]
  },
  {
   "cell_type": "markdown",
   "metadata": {},
   "source": [
    "### Настройка параметров"
   ]
  },
  {
   "cell_type": "code",
   "execution_count": 38,
   "metadata": {},
   "outputs": [],
   "source": [
    "clf_l2 = LogisticRegression(penalty='l2',random_state=42)\n",
    "parameters = {'C':np.arange(0.05,1,0.05)}\n",
    "clf_cv = GridSearchCV(clf_l2, parameters)\n"
   ]
  },
  {
   "cell_type": "code",
   "execution_count": 39,
   "metadata": {},
   "outputs": [
    {
     "data": {
      "text/plain": [
       "GridSearchCV(cv=None, error_score=nan,\n",
       "             estimator=LogisticRegression(C=1.0, class_weight=None, dual=False,\n",
       "                                          fit_intercept=True,\n",
       "                                          intercept_scaling=1, l1_ratio=None,\n",
       "                                          max_iter=100, multi_class='auto',\n",
       "                                          n_jobs=None, penalty='l2',\n",
       "                                          random_state=42, solver='lbfgs',\n",
       "                                          tol=0.0001, verbose=0,\n",
       "                                          warm_start=False),\n",
       "             iid='deprecated', n_jobs=None,\n",
       "             param_grid={'C': array([0.05, 0.1 , 0.15, 0.2 , 0.25, 0.3 , 0.35, 0.4 , 0.45, 0.5 , 0.55,\n",
       "       0.6 , 0.65, 0.7 , 0.75, 0.8 , 0.85, 0.9 , 0.95])},\n",
       "             pre_dispatch='2*n_jobs', refit=True, return_train_score=False,\n",
       "             scoring=None, verbose=0)"
      ]
     },
     "execution_count": 39,
     "metadata": {},
     "output_type": "execute_result"
    }
   ],
   "source": [
    "clf_cv.fit(X,y)"
   ]
  },
  {
   "cell_type": "code",
   "execution_count": 40,
   "metadata": {
    "scrolled": true
   },
   "outputs": [
    {
     "data": {
      "text/plain": [
       "LogisticRegression(C=0.5, class_weight=None, dual=False, fit_intercept=True,\n",
       "                   intercept_scaling=1, l1_ratio=None, max_iter=100,\n",
       "                   multi_class='auto', n_jobs=None, penalty='l2',\n",
       "                   random_state=42, solver='lbfgs', tol=0.0001, verbose=0,\n",
       "                   warm_start=False)"
      ]
     },
     "execution_count": 40,
     "metadata": {},
     "output_type": "execute_result"
    }
   ],
   "source": [
    "clf_cv.best_estimator_"
   ]
  },
  {
   "cell_type": "markdown",
   "metadata": {},
   "source": [
    "### Обучение"
   ]
  },
  {
   "cell_type": "code",
   "execution_count": 41,
   "metadata": {},
   "outputs": [],
   "source": [
    "clf_l2 = LogisticRegression(penalty='l2',C = С,random_state=42)\n",
    "scores = cross_validate(clf,X,y,cv=5,scoring=scoring)"
   ]
  },
  {
   "cell_type": "code",
   "execution_count": 42,
   "metadata": {},
   "outputs": [
    {
     "name": "stdout",
     "output_type": "stream",
     "text": [
      "Ошибки на валидации\n",
      "test_accuracy = 0.6762188692443609\n",
      "test_precision_macro = 0.6627387972147134\n",
      "test_roc_auc = 0.7317061087095794\n"
     ]
    }
   ],
   "source": [
    "print('Ошибки на валидации')\n",
    "for score in scoring_test:\n",
    "    print(f'{score} = {np.mean(scores[score])}')"
   ]
  },
  {
   "cell_type": "code",
   "execution_count": 43,
   "metadata": {},
   "outputs": [
    {
     "name": "stdout",
     "output_type": "stream",
     "text": [
      "Ошибки на Train --- Test выборках\n",
      "accuracy = 0.7316794673012896 --- 0.7316651042042258\n",
      "precision = 0.5029052419988065 --- 0.5009837908741684\n",
      "roc auc = 0.7252877933793803 --- 0.7268640168250026\n"
     ]
    }
   ],
   "source": [
    "check_retrain(clf_l2,X_train,X_test, y_train, y_test)"
   ]
  },
  {
   "cell_type": "code",
   "execution_count": null,
   "metadata": {},
   "outputs": [],
   "source": []
  }
 ],
 "metadata": {
  "kernelspec": {
   "display_name": "Python 3",
   "language": "python",
   "name": "python3"
  },
  "language_info": {
   "codemirror_mode": {
    "name": "ipython",
    "version": 3
   },
   "file_extension": ".py",
   "mimetype": "text/x-python",
   "name": "python",
   "nbconvert_exporter": "python",
   "pygments_lexer": "ipython3",
   "version": "3.7.3"
  }
 },
 "nbformat": 4,
 "nbformat_minor": 2
}
