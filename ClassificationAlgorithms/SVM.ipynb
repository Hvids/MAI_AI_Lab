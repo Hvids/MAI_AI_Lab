{
 "cells": [
  {
   "cell_type": "code",
   "execution_count": 1,
   "metadata": {},
   "outputs": [],
   "source": [
    "import sys\n",
    "sys.path.append('./modules/')\n",
    "import warnings\n",
    "warnings.simplefilter(\"ignore\")\n"
   ]
  },
  {
   "cell_type": "code",
   "execution_count": 2,
   "metadata": {},
   "outputs": [],
   "source": [
    "import pandas as pd\n",
    "import numpy as np\n",
    "from scipy.spatial.distance import cosine\n",
    "from svm import SVM\n",
    "from sklearn.model_selection import KFold\n",
    "from sklearn.model_selection import train_test_split\n",
    "from sklearn.metrics import precision_score, accuracy_score, roc_auc_score"
   ]
  },
  {
   "cell_type": "code",
   "execution_count": 3,
   "metadata": {},
   "outputs": [],
   "source": [
    "data = pd.read_csv('./data/hotel_data_review.csv')\n",
    "X = data.drop(['is_canceled'],axis=1).values\n",
    "y = data['is_canceled'].values\n",
    "X_train, X_test, y_train, y_test = train_test_split(X,y, random_state= 42)"
   ]
  },
  {
   "cell_type": "markdown",
   "metadata": {},
   "source": [
    "# Implemented SVM"
   ]
  },
  {
   "cell_type": "code",
   "execution_count": 4,
   "metadata": {},
   "outputs": [],
   "source": [
    "def cross_val_score(model, X, y):\n",
    "    acc_scores = []\n",
    "    prec_scores = []\n",
    "    roc_scores = []\n",
    "\n",
    "    kf = KFold(n_splits=5)\n",
    "    for train_index, test_index in kf.split(X):\n",
    "        X_train, X_test = X[train_index], X[test_index]\n",
    "        y_train, y_test = y[train_index], y[test_index]\n",
    "        model.fit(X_train, y_train)\n",
    "        y_pred = model.predict(X_test)\n",
    "        acc_score = accuracy_score(y_test, y_pred)\n",
    "        prec_score = precision_score(y_test, y_pred)\n",
    "        roc_score = roc_auc_score(y_test, y_pred)\n",
    "        acc_scores.append(acc_score)\n",
    "        prec_scores.append(prec_score)\n",
    "        roc_scores.append(roc_score)\n",
    "\n",
    "    score = np.mean(acc_scores), np.mean(prec_scores), np.mean(roc_scores)\n",
    "    return score\n",
    "def search_parametrs_C(X,y,C_list):\n",
    "    best_C = None\n",
    "    best_roc = -10\n",
    "    \n",
    "    for C in C_list:\n",
    "        lr = SVM(C=C)\n",
    "        accuracy,precision,roc_auc = cross_val_score(lr,X,y)\n",
    "        if roc_auc > best_roc:\n",
    "            best_C = C\n",
    "    return best_C\n",
    "\n",
    "def check_retrain(model,X_train,X_test,y_train,y_test):\n",
    "    model.fit(X_train,y_train)\n",
    "    y_pred_test = model.predict(X_test)\n",
    "    y_pred_train = model.predict(X_train)\n",
    "    acc = accuracy_score(y_pred_train,y_train), accuracy_score(y_pred_test,y_test)\n",
    "    prec = precision_score(y_pred_train,y_train), precision_score(y_pred_test,y_test)\n",
    "    roc= roc_auc_score(y_pred_train,y_train),roc_auc_score(y_pred_test,y_test)\n",
    "    print('Ошибки на Train --- Test выборках')\n",
    "    print(f'accuracy = {acc[0]} --- {acc[1]}')\n",
    "    print(f'precision = {prec[0]} --- {prec[1]}' )\n",
    "    print(f'roc auc = {roc[0]} --- {roc[1]}')\n",
    "    \n",
    "def print_error_validation(accuracy,precission,roc_auc):\n",
    "    print('Ошибки на валидации')\n",
    "    print(f'accuracy = {accuracy}')\n",
    "    print(f'precision = {precision}')\n",
    "    print(f'roc auc = {roc_auc}')"
   ]
  },
  {
   "cell_type": "markdown",
   "metadata": {},
   "source": [
    "### Настройка параметров"
   ]
  },
  {
   "cell_type": "code",
   "execution_count": 5,
   "metadata": {},
   "outputs": [],
   "source": [
    "C = search_parametrs_C(X,y,C_list=np.arange(1,30,5))"
   ]
  },
  {
   "cell_type": "code",
   "execution_count": 6,
   "metadata": {},
   "outputs": [
    {
     "name": "stdout",
     "output_type": "stream",
     "text": [
      "26\n"
     ]
    }
   ],
   "source": [
    "print(C)"
   ]
  },
  {
   "cell_type": "markdown",
   "metadata": {},
   "source": [
    "### Обучение"
   ]
  },
  {
   "cell_type": "code",
   "execution_count": 7,
   "metadata": {},
   "outputs": [],
   "source": [
    "model = SVM(C = C)\n"
   ]
  },
  {
   "cell_type": "code",
   "execution_count": 8,
   "metadata": {},
   "outputs": [],
   "source": [
    "accuracy,precision,roc_auc = cross_val_score(model,X,y)"
   ]
  },
  {
   "cell_type": "code",
   "execution_count": 9,
   "metadata": {},
   "outputs": [
    {
     "name": "stdout",
     "output_type": "stream",
     "text": [
      "Ошибки на валидации\n",
      "accuracy = 0.6269506210885225\n",
      "precision = 0.6022078848635231\n",
      "roc auc = 0.5017249056251604\n"
     ]
    }
   ],
   "source": [
    "print_error_validation(accuracy,precision,roc_auc)"
   ]
  },
  {
   "cell_type": "code",
   "execution_count": 10,
   "metadata": {},
   "outputs": [
    {
     "name": "stdout",
     "output_type": "stream",
     "text": [
      "Ошибки на Train --- Test выборках\n",
      "accuracy = 0.6221469008040962 --- 0.6192399221172568\n",
      "precision = 0.016614843431012282 --- 0.016209125831537524\n",
      "roc auc = 0.7135424961801137 --- 0.68034248618037\n"
     ]
    }
   ],
   "source": [
    "check_retrain(model,X_train,X_test, y_train, y_test)"
   ]
  },
  {
   "cell_type": "markdown",
   "metadata": {},
   "source": [
    "# Sklear SVM"
   ]
  },
  {
   "cell_type": "code",
   "execution_count": 11,
   "metadata": {},
   "outputs": [],
   "source": [
    "from sklearn import svm\n",
    "from sklearn.model_selection import cross_val_score\n",
    "from sklearn.model_selection import cross_validate\n",
    "from sklearn.model_selection import GridSearchCV\n",
    "scoring = ['precision_macro', 'roc_auc','accuracy']\n",
    "scoring_test = ['test_accuracy','test_precision_macro','test_roc_auc']"
   ]
  },
  {
   "cell_type": "markdown",
   "metadata": {},
   "source": [
    "### Настройка параметров"
   ]
  },
  {
   "cell_type": "code",
   "execution_count": 12,
   "metadata": {},
   "outputs": [],
   "source": [
    "clf = svm.SVC()\n",
    "parameters = {'C':np.arange(1,30,5)}\n",
    "clf_gs = GridSearchCV(clf, parameters)"
   ]
  },
  {
   "cell_type": "code",
   "execution_count": 13,
   "metadata": {},
   "outputs": [
    {
     "data": {
      "text/plain": [
       "GridSearchCV(cv=None, error_score=nan,\n",
       "             estimator=SVC(C=1.0, break_ties=False, cache_size=200,\n",
       "                           class_weight=None, coef0=0.0,\n",
       "                           decision_function_shape='ovr', degree=3,\n",
       "                           gamma='scale', kernel='rbf', max_iter=-1,\n",
       "                           probability=False, random_state=None, shrinking=True,\n",
       "                           tol=0.001, verbose=False),\n",
       "             iid='deprecated', n_jobs=None,\n",
       "             param_grid={'C': array([ 1,  6, 11, 16, 21, 26])},\n",
       "             pre_dispatch='2*n_jobs', refit=True, return_train_score=False,\n",
       "             scoring=None, verbose=0)"
      ]
     },
     "execution_count": 13,
     "metadata": {},
     "output_type": "execute_result"
    }
   ],
   "source": [
    "clf_gs.fit(X,y)"
   ]
  },
  {
   "cell_type": "code",
   "execution_count": 14,
   "metadata": {},
   "outputs": [
    {
     "data": {
      "text/plain": [
       "SVC(C=6, break_ties=False, cache_size=200, class_weight=None, coef0=0.0,\n",
       "    decision_function_shape='ovr', degree=3, gamma='scale', kernel='rbf',\n",
       "    max_iter=-1, probability=False, random_state=None, shrinking=True,\n",
       "    tol=0.001, verbose=False)"
      ]
     },
     "execution_count": 14,
     "metadata": {},
     "output_type": "execute_result"
    }
   ],
   "source": [
    "clf_gs.best_estimator_"
   ]
  },
  {
   "cell_type": "code",
   "execution_count": 15,
   "metadata": {},
   "outputs": [],
   "source": [
    "C = 6"
   ]
  },
  {
   "cell_type": "markdown",
   "metadata": {},
   "source": [
    "### Обучение"
   ]
  },
  {
   "cell_type": "code",
   "execution_count": 16,
   "metadata": {},
   "outputs": [],
   "source": [
    "clf = svm.SVC(C=C)\n"
   ]
  },
  {
   "cell_type": "code",
   "execution_count": 17,
   "metadata": {},
   "outputs": [
    {
     "name": "stdout",
     "output_type": "stream",
     "text": [
      "Ошибки на валидации\n",
      "test_accuracy = 0.6274415852849835\n",
      "test_precision_macro = 0.5931191534298028\n",
      "test_roc_auc = 0.6449447954475727\n"
     ]
    }
   ],
   "source": [
    "scores = cross_validate(clf,X,y,cv=5,scoring=scoring)\n",
    "print('Ошибки на валидации')\n",
    "for score in scoring_test:\n",
    "    print(f'{score} = {np.mean(scores[score])}')"
   ]
  },
  {
   "cell_type": "code",
   "execution_count": 18,
   "metadata": {},
   "outputs": [
    {
     "name": "stdout",
     "output_type": "stream",
     "text": [
      "Ошибки на Train --- Test выборках\n",
      "accuracy = 0.70935948749384 --- 0.7070743491742987\n",
      "precision = 0.36204026508370235 --- 0.3554764358662044\n",
      "roc auc = 0.724563598058007 --- 0.7249103784925696\n"
     ]
    }
   ],
   "source": [
    "check_retrain(clf,X_train,X_test, y_train, y_test)"
   ]
  },
  {
   "cell_type": "code",
   "execution_count": null,
   "metadata": {},
   "outputs": [],
   "source": []
  }
 ],
 "metadata": {
  "kernelspec": {
   "display_name": "Python 3",
   "language": "python",
   "name": "python3"
  },
  "language_info": {
   "codemirror_mode": {
    "name": "ipython",
    "version": 3
   },
   "file_extension": ".py",
   "mimetype": "text/x-python",
   "name": "python",
   "nbconvert_exporter": "python",
   "pygments_lexer": "ipython3",
   "version": "3.7.3"
  }
 },
 "nbformat": 4,
 "nbformat_minor": 2
}
