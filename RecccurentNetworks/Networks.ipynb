{
 "cells": [
  {
   "cell_type": "code",
   "execution_count": 0,
   "metadata": {
    "colab": {},
    "colab_type": "code",
    "id": "IJS02jSLfA1q"
   },
   "outputs": [],
   "source": [
    "import matplotlib.pyplot as plt"
   ]
  },
  {
   "cell_type": "code",
   "execution_count": 0,
   "metadata": {
    "colab": {},
    "colab_type": "code",
    "id": "_ws4lr5mfP-x"
   },
   "outputs": [],
   "source": [
    "import numpy as np\n",
    "import tensorflow as tf\n",
    "import os\n",
    "import time"
   ]
  },
  {
   "cell_type": "code",
   "execution_count": 0,
   "metadata": {
    "colab": {},
    "colab_type": "code",
    "id": "9O8GDJkbuKyF"
   },
   "outputs": [],
   "source": [
    "path = './data/'\n",
    "path_save = './'"
   ]
  },
  {
   "cell_type": "markdown",
   "metadata": {
    "colab_type": "text",
    "id": "etM19Xi72sl4"
   },
   "source": [
    "# Read the data"
   ]
  },
  {
   "cell_type": "code",
   "execution_count": 108,
   "metadata": {
    "colab": {
     "base_uri": "https://localhost:8080/",
     "height": 510
    },
    "colab_type": "code",
    "id": "tJPQQ6Yqf21v",
    "outputId": "ab0f7c9f-11a5-47ef-85c0-636c2e352e61"
   },
   "outputs": [
    {
     "name": "stdout",
     "output_type": "stream",
     "text": [
      "//0-1 Knapsack problem - Dynamic programming\n",
      "//#include <bits/stdc++.h>\n",
      "#include <iostream>\n",
      "using namespace std;\n",
      "\n",
      "//void Print(int res[20][20], int i, int j, int capacity)\n",
      "//{\n",
      "//\tif(i==0 || j==0)\n",
      "//\t{\n",
      "//\t\treturn;\n",
      "//\t}\n",
      "//\tif(res[i-1][j]==res[i][j-1])\n",
      "//\t{\n",
      "//\t\tif(i<=capacity)\n",
      "//\t\t{\n",
      "//\t\t\tcout<<i<<\" \";\n",
      "//\t\t}\n",
      "//\n",
      "//\t\tPrint(res, i-1, j-1, capacity-i);\n",
      "//\t}\n",
      "//\telse if(res[i-1][j]>res[i][j-1])\n",
      "//\t{\n",
      "//\t\tPrint(res, i-1,j, capacity);\n",
      "//\t}\n",
      "//\telse if(res[i][j-1]>res[i-1][j])\n",
      "//\t{\n",
      "//\t\tPrint(res, i,j-1, capacity);\n",
      "//\t}\n",
      "//}\n"
     ]
    }
   ],
   "source": [
    "text = open(f'{path}all_text.txt', 'rb').read().decode(encoding='utf-8')\n",
    "print(text[:513])"
   ]
  },
  {
   "cell_type": "code",
   "execution_count": 109,
   "metadata": {
    "colab": {
     "base_uri": "https://localhost:8080/",
     "height": 34
    },
    "colab_type": "code",
    "id": "XNoTkM-k3QPM",
    "outputId": "a584fea7-a5fb-437f-f80e-b02ea32d96bc"
   },
   "outputs": [
    {
     "name": "stdout",
     "output_type": "stream",
     "text": [
      "Length of text: 7037257 characters\n"
     ]
    }
   ],
   "source": [
    "print ('Length of text: {} characters'.format(len(text)))"
   ]
  },
  {
   "cell_type": "code",
   "execution_count": 0,
   "metadata": {
    "colab": {},
    "colab_type": "code",
    "id": "wpHLCblsgIbd"
   },
   "outputs": [],
   "source": [
    "vocab = sorted(set(text))"
   ]
  },
  {
   "cell_type": "code",
   "execution_count": 111,
   "metadata": {
    "colab": {
     "base_uri": "https://localhost:8080/",
     "height": 34
    },
    "colab_type": "code",
    "id": "uqykCVkm3WMG",
    "outputId": "17b98535-518a-4b13-840e-b81293f051a6"
   },
   "outputs": [
    {
     "name": "stdout",
     "output_type": "stream",
     "text": [
      "103 unique characters\n"
     ]
    }
   ],
   "source": [
    "print (f'{len(vocab)} unique characters')"
   ]
  },
  {
   "cell_type": "markdown",
   "metadata": {
    "colab_type": "text",
    "id": "zVZOornX3e_V"
   },
   "source": [
    "#Process the text\n",
    "\n",
    "\n"
   ]
  },
  {
   "cell_type": "markdown",
   "metadata": {
    "colab_type": "text",
    "id": "D_hPIcOc3iC-"
   },
   "source": [
    "**Vectorize the text**"
   ]
  },
  {
   "cell_type": "code",
   "execution_count": 0,
   "metadata": {
    "colab": {},
    "colab_type": "code",
    "id": "ThvO05zJf-W1"
   },
   "outputs": [],
   "source": [
    "char2idx = {u:i for i, u in enumerate(vocab)}\n",
    "idx2char = np.array(vocab)\n",
    "\n",
    "text_as_int = np.array([char2idx[c] for c in text])"
   ]
  },
  {
   "cell_type": "code",
   "execution_count": 0,
   "metadata": {
    "colab": {},
    "colab_type": "code",
    "id": "L2MXtzXokRng"
   },
   "outputs": [],
   "source": [
    "size = len(text_as_int)\n",
    "idx_split = int(size*0.8)\n",
    "train_text_as_int = text_as_int[:idx_split]\n",
    "test_text_as_int= text_as_int[idx_split:]"
   ]
  },
  {
   "cell_type": "code",
   "execution_count": 114,
   "metadata": {
    "colab": {
     "base_uri": "https://localhost:8080/",
     "height": 408
    },
    "colab_type": "code",
    "id": "D3sFZBZr30xP",
    "outputId": "ae44fe9b-3b3c-44e4-e979-b241133ec165"
   },
   "outputs": [
    {
     "name": "stdout",
     "output_type": "stream",
     "text": [
      "{\n",
      "  '\\t':   0,\n",
      "  '\\n':   1,\n",
      "  ' ' :   2,\n",
      "  '!' :   3,\n",
      "  '\"' :   4,\n",
      "  '#' :   5,\n",
      "  '$' :   6,\n",
      "  '%' :   7,\n",
      "  '&' :   8,\n",
      "  \"'\" :   9,\n",
      "  '(' :  10,\n",
      "  ')' :  11,\n",
      "  '*' :  12,\n",
      "  '+' :  13,\n",
      "  ',' :  14,\n",
      "  '-' :  15,\n",
      "  '.' :  16,\n",
      "  '/' :  17,\n",
      "  '0' :  18,\n",
      "  '1' :  19,\n",
      "  ...\n",
      "}\n"
     ]
    }
   ],
   "source": [
    "print('{')\n",
    "for char,_ in zip(char2idx, range(20)):\n",
    "    print('  {:4s}: {:3d},'.format(repr(char), char2idx[char]))\n",
    "print('  ...\\n}')"
   ]
  },
  {
   "cell_type": "markdown",
   "metadata": {
    "colab_type": "text",
    "id": "0VOlF1V74BBX"
   },
   "source": [
    "**Create training examples and targets**"
   ]
  },
  {
   "cell_type": "code",
   "execution_count": 0,
   "metadata": {
    "colab": {},
    "colab_type": "code",
    "id": "X2ghFOjwgEgH"
   },
   "outputs": [],
   "source": [
    "seq_length = 100\n",
    "examples_per_epoch = len(text)//(seq_length+1)\n",
    "\n",
    "# Create training examples / targets\n",
    "train_char_dataset = tf.data.Dataset.from_tensor_slices(train_text_as_int)\n",
    "test_char_dataset =  tf.data.Dataset.from_tensor_slices(test_text_as_int)\n"
   ]
  },
  {
   "cell_type": "code",
   "execution_count": 0,
   "metadata": {
    "colab": {},
    "colab_type": "code",
    "id": "6oU4fQqIgVmR"
   },
   "outputs": [],
   "source": [
    "#make sequence\n",
    "train_sequences = train_char_dataset.batch(seq_length+1, drop_remainder=True)\n",
    "test_seqiences = test_char_dataset.batch(seq_length+1, drop_remainder=True)"
   ]
  },
  {
   "cell_type": "code",
   "execution_count": 0,
   "metadata": {
    "colab": {},
    "colab_type": "code",
    "id": "Gw6Wb-y1gOhx"
   },
   "outputs": [],
   "source": [
    "# spliting on x and y\n",
    "def split_input_target(chunk):\n",
    "    input_text = chunk[:-1]\n",
    "    target_text = chunk[1:]\n",
    "    return input_text, target_text\n",
    "\n",
    "train_dataset = train_sequences.map(split_input_target)\n",
    "test_dataset = test_seqiences.map(split_input_target)"
   ]
  },
  {
   "cell_type": "markdown",
   "metadata": {
    "colab_type": "text",
    "id": "7rzTSqgRPRP7"
   },
   "source": [
    "**Create training batches**"
   ]
  },
  {
   "cell_type": "code",
   "execution_count": 0,
   "metadata": {
    "colab": {},
    "colab_type": "code",
    "id": "JdGRdQ-iPTc8"
   },
   "outputs": [],
   "source": [
    "BATCH_SIZE = 64\n",
    "\n",
    "BUFFER_SIZE = 10000\n",
    "\n",
    "train_dataset = train_dataset.shuffle(BUFFER_SIZE).batch(BATCH_SIZE, drop_remainder=True)\n",
    "test_dataset = test_dataset.shuffle(BUFFER_SIZE).batch(BATCH_SIZE, drop_remainder=True)"
   ]
  },
  {
   "cell_type": "markdown",
   "metadata": {
    "colab_type": "text",
    "id": "XNdP30U34b7F"
   },
   "source": [
    "# Build The Model"
   ]
  },
  {
   "cell_type": "code",
   "execution_count": 0,
   "metadata": {
    "colab": {},
    "colab_type": "code",
    "id": "heMUpJgD41Ac"
   },
   "outputs": [],
   "source": [
    "def loss(labels, logits):\n",
    "  return tf.keras.losses.sparse_categorical_crossentropy(labels, logits, from_logits=True)"
   ]
  },
  {
   "cell_type": "code",
   "execution_count": 0,
   "metadata": {
    "colab": {},
    "colab_type": "code",
    "id": "8c9HzFsj7IEQ"
   },
   "outputs": [],
   "source": [
    "# this function buil model specified in task\n",
    "def build_simple_rnn(vocab_size, embedding_dim, rnn_units, batch_size):\n",
    "  model = tf.keras.Sequential([\n",
    "    tf.keras.layers.Embedding(vocab_size, embedding_dim,\n",
    "                              batch_input_shape=[batch_size, None]),\n",
    "    tf.keras.layers.SimpleRNN(rnn_units,\n",
    "                        return_sequences=True,\n",
    "                        stateful=True,\n",
    "                        recurrent_initializer='glorot_uniform'),\n",
    "    tf.keras.layers.Dense(vocab_size)\n",
    "  ])\n",
    "  return model\n",
    "\n",
    "def build_lstm_one_layer(vocab_size, embedding_dim, rnn_units, batch_size):\n",
    "  model = tf.keras.Sequential([\n",
    "    tf.keras.layers.Embedding(vocab_size, embedding_dim,\n",
    "                              batch_input_shape=[batch_size, None]),\n",
    "    tf.keras.layers.LSTM(rnn_units,\n",
    "                        return_sequences=True,\n",
    "                        stateful=True,\n",
    "                        recurrent_initializer='glorot_uniform'),\n",
    "    tf.keras.layers.Dense(vocab_size)\n",
    "  ])\n",
    "  return model\n",
    "\n",
    "\n",
    "def build_lstm_two_layer(vocab_size, embedding_dim, rnn_units, batch_size):\n",
    "  model = tf.keras.Sequential([\n",
    "    tf.keras.layers.Embedding(vocab_size, embedding_dim,\n",
    "                              batch_input_shape=[batch_size, None]),\n",
    "    tf.keras.layers.LSTM(rnn_units,\n",
    "                        return_sequences=True,\n",
    "                        stateful=True,\n",
    "                        recurrent_initializer='glorot_uniform'),\n",
    "    tf.keras.layers.LSTM(rnn_units,\n",
    "                        return_sequences=True,\n",
    "                        stateful=True,\n",
    "                        recurrent_initializer='glorot_uniform'),\n",
    "    tf.keras.layers.Dense(vocab_size)\n",
    "  ])\n",
    "  return model\n",
    "\n",
    "\n",
    "def build_gru_one_layer(vocab_size, embedding_dim, rnn_units, batch_size):\n",
    "  model = tf.keras.Sequential([\n",
    "    tf.keras.layers.Embedding(vocab_size, embedding_dim,\n",
    "                              batch_input_shape=[batch_size, None]),\n",
    "    tf.keras.layers.GRU(rnn_units,\n",
    "                        return_sequences=True,\n",
    "                        stateful=True,\n",
    "                        recurrent_initializer='glorot_uniform'),\n",
    "    tf.keras.layers.Dense(vocab_size)\n",
    "  ])\n",
    "  return model\n",
    "\n",
    "\n"
   ]
  },
  {
   "cell_type": "code",
   "execution_count": 0,
   "metadata": {
    "colab": {},
    "colab_type": "code",
    "id": "kg6kbclpgSHB"
   },
   "outputs": [],
   "source": [
    "EPOCHS=20\n",
    "\n",
    "vocab_size = len(vocab)\n",
    "# The embedding dimension\n",
    "embedding_dim = 256\n",
    "# Number of RNN units\n",
    "rnn_units = 1024\n",
    "\n",
    "\n"
   ]
  },
  {
   "cell_type": "markdown",
   "metadata": {
    "colab_type": "text",
    "id": "ECYb49oMPjK9"
   },
   "source": [
    "**Simple RNN**"
   ]
  },
  {
   "cell_type": "code",
   "execution_count": 0,
   "metadata": {
    "colab": {},
    "colab_type": "code",
    "id": "oQuJlpO_-ODg"
   },
   "outputs": [],
   "source": [
    "model_simple_rnn = build_simple_rnn(\n",
    "    vocab_size = vocab_size,\n",
    "    embedding_dim=embedding_dim,\n",
    "    rnn_units=rnn_units,\n",
    "    batch_size=BATCH_SIZE\n",
    ")\n",
    "model_simple_rnn.compile(optimizer='adam', loss=loss,metrics=['accuracy'])"
   ]
  },
  {
   "cell_type": "code",
   "execution_count": 123,
   "metadata": {
    "colab": {
     "base_uri": "https://localhost:8080/",
     "height": 369
    },
    "colab_type": "code",
    "id": "GXrPEtgkES79",
    "outputId": "e63f8134-0274-4efe-bf52-9f2a09d23af8"
   },
   "outputs": [
    {
     "data": {
      "image/png": "[encoded data removed]",
      "text/plain": [
       "<IPython.core.display.Image object>"
      ]
     },
     "execution_count": 123,
     "metadata": {
      "tags": []
     },
     "output_type": "execute_result"
    }
   ],
   "source": [
    "tf.keras.utils.plot_model(model_simple_rnn,to_file=f'{path_save}img/model_simle_rnn.png')"
   ]
  },
  {
   "cell_type": "markdown",
   "metadata": {
    "colab_type": "text",
    "id": "9D7UPBuFPpAV"
   },
   "source": [
    "**Single layer LSTM**"
   ]
  },
  {
   "cell_type": "code",
   "execution_count": 0,
   "metadata": {
    "colab": {},
    "colab_type": "code",
    "id": "dr1sdivp-OL0"
   },
   "outputs": [],
   "source": [
    "model_lstm_one_layer = build_lstm_one_layer(\n",
    "    vocab_size = vocab_size,\n",
    "    embedding_dim=embedding_dim,\n",
    "    rnn_units=rnn_units,\n",
    "    batch_size=BATCH_SIZE\n",
    ")\n",
    "model_lstm_one_layer.compile(optimizer='adam', loss=loss,metrics=['accuracy'])"
   ]
  },
  {
   "cell_type": "code",
   "execution_count": 125,
   "metadata": {
    "colab": {
     "base_uri": "https://localhost:8080/",
     "height": 369
    },
    "colab_type": "code",
    "id": "AtfLRngUE5tI",
    "outputId": "d05333b1-1425-47ab-8e5d-ed9430aef0c7"
   },
   "outputs": [
    {
     "data": {
      "image/png": "[encoded data removed]",
      "text/plain": [
       "<IPython.core.display.Image object>"
      ]
     },
     "execution_count": 125,
     "metadata": {
      "tags": []
     },
     "output_type": "execute_result"
    }
   ],
   "source": [
    "tf.keras.utils.plot_model(model_lstm_one_layer,to_file=f'{path}img/model_lstm_one_layer.png')"
   ]
  },
  {
   "cell_type": "markdown",
   "metadata": {
    "colab_type": "text",
    "id": "jd9SigEUP-uk"
   },
   "source": [
    "**Double layer LSTM**"
   ]
  },
  {
   "cell_type": "code",
   "execution_count": 0,
   "metadata": {
    "colab": {},
    "colab_type": "code",
    "id": "AuXQxfYj-OSE"
   },
   "outputs": [],
   "source": [
    "model_lstm_two_layer = build_lstm_two_layer(\n",
    "    vocab_size = vocab_size,\n",
    "    embedding_dim=embedding_dim,\n",
    "    rnn_units=rnn_units,\n",
    "    batch_size=BATCH_SIZE\n",
    ")\n",
    "model_lstm_two_layer.compile(optimizer='adam', loss=loss,metrics=['accuracy'])"
   ]
  },
  {
   "cell_type": "code",
   "execution_count": 127,
   "metadata": {
    "colab": {
     "base_uri": "https://localhost:8080/",
     "height": 466
    },
    "colab_type": "code",
    "id": "BcvL4IzHE_bb",
    "outputId": "fbb65aeb-5b43-41a3-9b56-1fb4ecd2d1cc"
   },
   "outputs": [
    {
     "data": {
      "image/png": "[encoded data removed]",
      "text/plain": [
       "<IPython.core.display.Image object>"
      ]
     },
     "execution_count": 127,
     "metadata": {
      "tags": []
     },
     "output_type": "execute_result"
    }
   ],
   "source": [
    "tf.keras.utils.plot_model(model_lstm_two_layer,to_file=f'{path}img/model_lstm_two_layer.png')"
   ]
  },
  {
   "cell_type": "markdown",
   "metadata": {
    "colab_type": "text",
    "id": "WqMXtNF_QHpC"
   },
   "source": [
    "**Single layer GRU**"
   ]
  },
  {
   "cell_type": "code",
   "execution_count": 0,
   "metadata": {
    "colab": {},
    "colab_type": "code",
    "id": "k13KDCYzghqW"
   },
   "outputs": [],
   "source": [
    "model_gru_one_layer = build_gru_one_layer(\n",
    "  vocab_size = vocab_size,\n",
    "  embedding_dim=embedding_dim,\n",
    "  rnn_units=rnn_units,\n",
    "  batch_size=BATCH_SIZE)\n",
    "model_gru_one_layer.compile(optimizer='adam', loss=loss,metrics=['accuracy'])"
   ]
  },
  {
   "cell_type": "code",
   "execution_count": 129,
   "metadata": {
    "colab": {
     "base_uri": "https://localhost:8080/",
     "height": 369
    },
    "colab_type": "code",
    "id": "bwHrmxNcFKPc",
    "outputId": "342281a5-a98b-4a89-aaf3-9cfece657d33"
   },
   "outputs": [
    {
     "data": {
      "image/png": "[encoded data removed]",
      "text/plain": [
       "<IPython.core.display.Image object>"
      ]
     },
     "execution_count": 129,
     "metadata": {
      "tags": []
     },
     "output_type": "execute_result"
    }
   ],
   "source": [
    "tf.keras.utils.plot_model(model_gru_one_layer,to_file=f'{path}img/model_gru_one_layer.png')"
   ]
  },
  {
   "cell_type": "markdown",
   "metadata": {
    "colab_type": "text",
    "id": "2cejouboOH9G"
   },
   "source": [
    "# Train"
   ]
  },
  {
   "cell_type": "markdown",
   "metadata": {
    "colab_type": "text",
    "id": "JyryrN9tQNcX"
   },
   "source": [
    "**Configure checkpoints**"
   ]
  },
  {
   "cell_type": "code",
   "execution_count": 0,
   "metadata": {
    "colab": {},
    "colab_type": "code",
    "id": "ZFfNkCjhgiLr"
   },
   "outputs": [],
   "source": [
    "# Name of the checkpoint files\n",
    "checkpoint_dir_simple_rnn= f'{path_save}training_checkpoints_simple_rnn'\n",
    "checkpoint_dir_lstm_one_layer= f'{path_save}training_checkpoints_lstm_one_layer'\n",
    "checkpoint_dir_lstm_two_layer= f'{path_save}training_checkpoints_lstm_two_layer'\n",
    "checkpoint_dir_gru_one_layer = f'{path_save}training_checkpoints_gru_one_layer'\n",
    "\n",
    "# our checkpoint\n",
    "checkpoint_prefix_simple_rnn = os.path.join(checkpoint_dir_simple_rnn, \"ckpt_{epoch}\")\n",
    "\n",
    "checkpoint_callback_simple_rnn=tf.keras.callbacks.ModelCheckpoint(\n",
    "    filepath=checkpoint_prefix_simple_rnn,\n",
    "    save_weights_only=True)\n",
    "\n",
    "checkpoint_prefix_lstm_one_layer = os.path.join(checkpoint_dir_lstm_one_layer, \"ckpt_{epoch}\")\n",
    "\n",
    "checkpoint_callback_lstm_one_layer=tf.keras.callbacks.ModelCheckpoint(\n",
    "    filepath=checkpoint_prefix_lstm_one_layer,\n",
    "    save_weights_only=True)\n",
    "\n",
    "checkpoint_prefix_lstm_two_layer = os.path.join(checkpoint_dir_lstm_two_layer, \"ckpt_{epoch}\")\n",
    "\n",
    "checkpoint_callback_lstm_two_layer=tf.keras.callbacks.ModelCheckpoint(\n",
    "    filepath=checkpoint_prefix_lstm_two_layer,\n",
    "    save_weights_only=True)\n",
    "\n",
    "checkpoint_prefix_gru_one_layer = os.path.join(checkpoint_dir_gru_one_layer, \"ckpt_{epoch}\")\n",
    "\n",
    "checkpoint_callback_gru_one_layer=tf.keras.callbacks.ModelCheckpoint(\n",
    "    filepath=checkpoint_prefix_gru_one_layer,\n",
    "    save_weights_only=True)\n",
    "\n"
   ]
  },
  {
   "cell_type": "markdown",
   "metadata": {
    "colab_type": "text",
    "id": "OyvksxUeQU4L"
   },
   "source": [
    "**Simple RNN**"
   ]
  },
  {
   "cell_type": "code",
   "execution_count": 131,
   "metadata": {
    "colab": {
     "base_uri": "https://localhost:8080/",
     "height": 717
    },
    "colab_type": "code",
    "id": "0Zj3pUQ4_DW3",
    "outputId": "cd6933b5-3e27-46db-d983-ab07b6640a0d"
   },
   "outputs": [
    {
     "name": "stdout",
     "output_type": "stream",
     "text": [
      "Epoch 1/20\n",
      "870/870 [==============================] - 115s 132ms/step - loss: 2.0212 - accuracy: 0.5004 - val_loss: 1.9233 - val_accuracy: 0.5473\n",
      "Epoch 2/20\n",
      "870/870 [==============================] - 115s 132ms/step - loss: 1.3208 - accuracy: 0.6620 - val_loss: 1.6995 - val_accuracy: 0.5975\n",
      "Epoch 3/20\n",
      "870/870 [==============================] - 115s 133ms/step - loss: 1.1489 - accuracy: 0.6993 - val_loss: 1.6464 - val_accuracy: 0.6054\n",
      "Epoch 4/20\n",
      "870/870 [==============================] - 115s 133ms/step - loss: 1.0679 - accuracy: 0.7173 - val_loss: 1.6167 - val_accuracy: 0.6124\n",
      "Epoch 5/20\n",
      "870/870 [==============================] - 115s 133ms/step - loss: 1.0178 - accuracy: 0.7290 - val_loss: 1.6346 - val_accuracy: 0.6123\n",
      "Epoch 6/20\n",
      "870/870 [==============================] - 115s 132ms/step - loss: 0.9835 - accuracy: 0.7369 - val_loss: 1.6237 - val_accuracy: 0.6185\n",
      "Epoch 7/20\n",
      "870/870 [==============================] - 116s 133ms/step - loss: 0.9595 - accuracy: 0.7424 - val_loss: 1.6304 - val_accuracy: 0.6160\n",
      "Epoch 8/20\n",
      "870/870 [==============================] - 115s 132ms/step - loss: 0.9391 - accuracy: 0.7473 - val_loss: 1.6121 - val_accuracy: 0.6192\n",
      "Epoch 9/20\n",
      "870/870 [==============================] - 115s 133ms/step - loss: 0.9257 - accuracy: 0.7506 - val_loss: 1.6364 - val_accuracy: 0.6179\n",
      "Epoch 10/20\n",
      "870/870 [==============================] - 115s 133ms/step - loss: 0.9150 - accuracy: 0.7529 - val_loss: 1.6137 - val_accuracy: 0.6191\n",
      "Epoch 11/20\n",
      "870/870 [==============================] - 117s 134ms/step - loss: 0.9080 - accuracy: 0.7545 - val_loss: 1.6341 - val_accuracy: 0.6196\n",
      "Epoch 12/20\n",
      "870/870 [==============================] - 115s 132ms/step - loss: 0.9012 - accuracy: 0.7562 - val_loss: 1.6262 - val_accuracy: 0.6202\n",
      "Epoch 13/20\n",
      "870/870 [==============================] - 115s 133ms/step - loss: 0.8965 - accuracy: 0.7573 - val_loss: 1.6327 - val_accuracy: 0.6209\n",
      "Epoch 14/20\n",
      "870/870 [==============================] - 116s 133ms/step - loss: 0.8976 - accuracy: 0.7569 - val_loss: 1.6339 - val_accuracy: 0.6191\n",
      "Epoch 15/20\n",
      "870/870 [==============================] - 116s 133ms/step - loss: 0.8918 - accuracy: 0.7582 - val_loss: 1.6514 - val_accuracy: 0.6192\n",
      "Epoch 16/20\n",
      "870/870 [==============================] - 116s 133ms/step - loss: 0.8941 - accuracy: 0.7576 - val_loss: 1.6394 - val_accuracy: 0.6214\n",
      "Epoch 17/20\n",
      "870/870 [==============================] - 116s 133ms/step - loss: 0.8985 - accuracy: 0.7565 - val_loss: 1.6559 - val_accuracy: 0.6155\n",
      "Epoch 18/20\n",
      "870/870 [==============================] - 115s 132ms/step - loss: 0.8950 - accuracy: 0.7571 - val_loss: 1.6646 - val_accuracy: 0.6204\n",
      "Epoch 19/20\n",
      "870/870 [==============================] - 116s 133ms/step - loss: 0.9028 - accuracy: 0.7549 - val_loss: 1.6629 - val_accuracy: 0.6138\n",
      "Epoch 20/20\n",
      "870/870 [==============================] - 115s 133ms/step - loss: 0.9046 - accuracy: 0.7545 - val_loss: 1.6722 - val_accuracy: 0.6190\n"
     ]
    }
   ],
   "source": [
    "history_simple_rnn = model_simple_rnn.fit(train_dataset, epochs=EPOCHS, callbacks=[checkpoint_callback_simple_rnn],validation_data=test_dataset)"
   ]
  },
  {
   "cell_type": "markdown",
   "metadata": {
    "colab_type": "text",
    "id": "Ajvktp0qQYTQ"
   },
   "source": [
    "**Single layer LSTM**"
   ]
  },
  {
   "cell_type": "code",
   "execution_count": 132,
   "metadata": {
    "colab": {
     "base_uri": "https://localhost:8080/",
     "height": 717
    },
    "colab_type": "code",
    "id": "sKWjtw5f_DcI",
    "outputId": "70d7c037-3ca8-4080-d55a-5abe5ca3e092"
   },
   "outputs": [
    {
     "name": "stdout",
     "output_type": "stream",
     "text": [
      "Epoch 1/20\n",
      "870/870 [==============================] - 158s 182ms/step - loss: 1.8562 - accuracy: 0.5309 - val_loss: 1.6546 - val_accuracy: 0.5886\n",
      "Epoch 2/20\n",
      "870/870 [==============================] - 158s 182ms/step - loss: 1.1036 - accuracy: 0.7087 - val_loss: 1.4913 - val_accuracy: 0.6273\n",
      "Epoch 3/20\n",
      "870/870 [==============================] - 159s 182ms/step - loss: 0.9318 - accuracy: 0.7489 - val_loss: 1.4679 - val_accuracy: 0.6366\n",
      "Epoch 4/20\n",
      "870/870 [==============================] - 159s 183ms/step - loss: 0.8441 - accuracy: 0.7707 - val_loss: 1.4602 - val_accuracy: 0.6432\n",
      "Epoch 5/20\n",
      "870/870 [==============================] - 159s 183ms/step - loss: 0.7864 - accuracy: 0.7851 - val_loss: 1.4754 - val_accuracy: 0.6450\n",
      "Epoch 6/20\n",
      "870/870 [==============================] - 160s 184ms/step - loss: 0.7440 - accuracy: 0.7961 - val_loss: 1.4759 - val_accuracy: 0.6490\n",
      "Epoch 7/20\n",
      "870/870 [==============================] - 159s 183ms/step - loss: 0.7108 - accuracy: 0.8047 - val_loss: 1.5122 - val_accuracy: 0.6483\n",
      "Epoch 8/20\n",
      "870/870 [==============================] - 160s 183ms/step - loss: 0.6840 - accuracy: 0.8118 - val_loss: 1.5297 - val_accuracy: 0.6476\n",
      "Epoch 9/20\n",
      "870/870 [==============================] - 159s 183ms/step - loss: 0.6621 - accuracy: 0.8178 - val_loss: 1.5233 - val_accuracy: 0.6491\n",
      "Epoch 10/20\n",
      "870/870 [==============================] - 160s 184ms/step - loss: 0.6434 - accuracy: 0.8227 - val_loss: 1.5324 - val_accuracy: 0.6470\n",
      "Epoch 11/20\n",
      "870/870 [==============================] - 160s 184ms/step - loss: 0.6278 - accuracy: 0.8269 - val_loss: 1.5532 - val_accuracy: 0.6513\n",
      "Epoch 12/20\n",
      "870/870 [==============================] - 159s 183ms/step - loss: 0.6147 - accuracy: 0.8306 - val_loss: 1.5598 - val_accuracy: 0.6494\n",
      "Epoch 13/20\n",
      "870/870 [==============================] - 159s 183ms/step - loss: 0.6040 - accuracy: 0.8335 - val_loss: 1.5893 - val_accuracy: 0.6479\n",
      "Epoch 14/20\n",
      "870/870 [==============================] - 159s 183ms/step - loss: 0.5945 - accuracy: 0.8359 - val_loss: 1.6065 - val_accuracy: 0.6473\n",
      "Epoch 15/20\n",
      "870/870 [==============================] - 159s 183ms/step - loss: 0.5861 - accuracy: 0.8383 - val_loss: 1.6158 - val_accuracy: 0.6468\n",
      "Epoch 16/20\n",
      "870/870 [==============================] - 159s 183ms/step - loss: 0.5790 - accuracy: 0.8402 - val_loss: 1.6185 - val_accuracy: 0.6496\n",
      "Epoch 17/20\n",
      "870/870 [==============================] - 159s 183ms/step - loss: 0.5729 - accuracy: 0.8419 - val_loss: 1.6402 - val_accuracy: 0.6448\n",
      "Epoch 18/20\n",
      "870/870 [==============================] - 159s 183ms/step - loss: 0.5679 - accuracy: 0.8432 - val_loss: 1.6503 - val_accuracy: 0.6482\n",
      "Epoch 19/20\n",
      "870/870 [==============================] - 159s 183ms/step - loss: 0.5641 - accuracy: 0.8443 - val_loss: 1.6666 - val_accuracy: 0.6475\n",
      "Epoch 20/20\n",
      "870/870 [==============================] - 159s 182ms/step - loss: 0.5605 - accuracy: 0.8455 - val_loss: 1.6864 - val_accuracy: 0.6459\n"
     ]
    }
   ],
   "source": [
    "history_lstm_one_layer = model_lstm_one_layer.fit(train_dataset, epochs=EPOCHS, callbacks=[checkpoint_callback_lstm_one_layer],validation_data=test_dataset)"
   ]
  },
  {
   "cell_type": "markdown",
   "metadata": {
    "colab_type": "text",
    "id": "Vo6SBxf7Qcjx"
   },
   "source": [
    "**Double layer LSTM**"
   ]
  },
  {
   "cell_type": "code",
   "execution_count": 133,
   "metadata": {
    "colab": {
     "base_uri": "https://localhost:8080/",
     "height": 1000
    },
    "colab_type": "code",
    "id": "iXZZgzJE_Dg5",
    "outputId": "63ad9d70-1d7b-4fc9-c2d8-622492ab5784"
   },
   "outputs": [
    {
     "name": "stdout",
     "output_type": "stream",
     "text": [
      "Epoch 1/20\n",
      "WARNING:tensorflow:Unresolved object in checkpoint: (root).optimizer\n",
      "WARNING:tensorflow:Unresolved object in checkpoint: (root).optimizer.iter\n",
      "WARNING:tensorflow:Unresolved object in checkpoint: (root).optimizer.beta_1\n",
      "WARNING:tensorflow:Unresolved object in checkpoint: (root).optimizer.beta_2\n",
      "WARNING:tensorflow:Unresolved object in checkpoint: (root).optimizer.decay\n",
      "WARNING:tensorflow:Unresolved object in checkpoint: (root).optimizer.learning_rate\n",
      "WARNING:tensorflow:Unresolved object in checkpoint: (root).optimizer's state 'm' for (root).layer_with_weights-0.embeddings\n",
      "WARNING:tensorflow:Unresolved object in checkpoint: (root).optimizer's state 'm' for (root).layer_with_weights-2.kernel\n",
      "WARNING:tensorflow:Unresolved object in checkpoint: (root).optimizer's state 'm' for (root).layer_with_weights-2.bias\n",
      "WARNING:tensorflow:Unresolved object in checkpoint: (root).optimizer's state 'm' for (root).layer_with_weights-1.cell.kernel\n",
      "WARNING:tensorflow:Unresolved object in checkpoint: (root).optimizer's state 'm' for (root).layer_with_weights-1.cell.recurrent_kernel\n",
      "WARNING:tensorflow:Unresolved object in checkpoint: (root).optimizer's state 'm' for (root).layer_with_weights-1.cell.bias\n",
      "WARNING:tensorflow:Unresolved object in checkpoint: (root).optimizer's state 'v' for (root).layer_with_weights-0.embeddings\n",
      "WARNING:tensorflow:Unresolved object in checkpoint: (root).optimizer's state 'v' for (root).layer_with_weights-2.kernel\n",
      "WARNING:tensorflow:Unresolved object in checkpoint: (root).optimizer's state 'v' for (root).layer_with_weights-2.bias\n",
      "WARNING:tensorflow:Unresolved object in checkpoint: (root).optimizer's state 'v' for (root).layer_with_weights-1.cell.kernel\n",
      "WARNING:tensorflow:Unresolved object in checkpoint: (root).optimizer's state 'v' for (root).layer_with_weights-1.cell.recurrent_kernel\n",
      "WARNING:tensorflow:Unresolved object in checkpoint: (root).optimizer's state 'v' for (root).layer_with_weights-1.cell.bias\n",
      "WARNING:tensorflow:A checkpoint was restored (e.g. tf.train.Checkpoint.restore or tf.keras.Model.load_weights) but not all checkpointed values were used. See above for specific issues. Use expect_partial() on the load status object, e.g. tf.train.Checkpoint.restore(...).expect_partial(), to silence these warnings, or use assert_consumed() to make the check explicit. See https://www.tensorflow.org/guide/checkpoint#loading_mechanics for details.\n",
      "WARNING:tensorflow:Unresolved object in checkpoint: (root).optimizer\n",
      "WARNING:tensorflow:Unresolved object in checkpoint: (root).optimizer.iter\n",
      "WARNING:tensorflow:Unresolved object in checkpoint: (root).optimizer.beta_1\n",
      "WARNING:tensorflow:Unresolved object in checkpoint: (root).optimizer.beta_2\n",
      "WARNING:tensorflow:Unresolved object in checkpoint: (root).optimizer.decay\n",
      "WARNING:tensorflow:Unresolved object in checkpoint: (root).optimizer.learning_rate\n",
      "WARNING:tensorflow:Unresolved object in checkpoint: (root).optimizer's state 'm' for (root).layer_with_weights-0.embeddings\n",
      "WARNING:tensorflow:Unresolved object in checkpoint: (root).optimizer's state 'm' for (root).layer_with_weights-3.kernel\n",
      "WARNING:tensorflow:Unresolved object in checkpoint: (root).optimizer's state 'm' for (root).layer_with_weights-3.bias\n",
      "WARNING:tensorflow:Unresolved object in checkpoint: (root).optimizer's state 'm' for (root).layer_with_weights-1.cell.kernel\n",
      "WARNING:tensorflow:Unresolved object in checkpoint: (root).optimizer's state 'm' for (root).layer_with_weights-1.cell.recurrent_kernel\n",
      "WARNING:tensorflow:Unresolved object in checkpoint: (root).optimizer's state 'm' for (root).layer_with_weights-1.cell.bias\n",
      "WARNING:tensorflow:Unresolved object in checkpoint: (root).optimizer's state 'm' for (root).layer_with_weights-2.cell.kernel\n",
      "WARNING:tensorflow:Unresolved object in checkpoint: (root).optimizer's state 'm' for (root).layer_with_weights-2.cell.recurrent_kernel\n",
      "WARNING:tensorflow:Unresolved object in checkpoint: (root).optimizer's state 'm' for (root).layer_with_weights-2.cell.bias\n",
      "WARNING:tensorflow:Unresolved object in checkpoint: (root).optimizer's state 'v' for (root).layer_with_weights-0.embeddings\n",
      "WARNING:tensorflow:Unresolved object in checkpoint: (root).optimizer's state 'v' for (root).layer_with_weights-3.kernel\n",
      "WARNING:tensorflow:Unresolved object in checkpoint: (root).optimizer's state 'v' for (root).layer_with_weights-3.bias\n",
      "WARNING:tensorflow:Unresolved object in checkpoint: (root).optimizer's state 'v' for (root).layer_with_weights-1.cell.kernel\n",
      "WARNING:tensorflow:Unresolved object in checkpoint: (root).optimizer's state 'v' for (root).layer_with_weights-1.cell.recurrent_kernel\n",
      "WARNING:tensorflow:Unresolved object in checkpoint: (root).optimizer's state 'v' for (root).layer_with_weights-1.cell.bias\n",
      "WARNING:tensorflow:Unresolved object in checkpoint: (root).optimizer's state 'v' for (root).layer_with_weights-2.cell.kernel\n",
      "WARNING:tensorflow:Unresolved object in checkpoint: (root).optimizer's state 'v' for (root).layer_with_weights-2.cell.recurrent_kernel\n",
      "WARNING:tensorflow:Unresolved object in checkpoint: (root).optimizer's state 'v' for (root).layer_with_weights-2.cell.bias\n",
      "WARNING:tensorflow:A checkpoint was restored (e.g. tf.train.Checkpoint.restore or tf.keras.Model.load_weights) but not all checkpointed values were used. See above for specific issues. Use expect_partial() on the load status object, e.g. tf.train.Checkpoint.restore(...).expect_partial(), to silence these warnings, or use assert_consumed() to make the check explicit. See https://www.tensorflow.org/guide/checkpoint#loading_mechanics for details.\n",
      "WARNING:tensorflow:Unresolved object in checkpoint: (root).optimizer\n",
      "WARNING:tensorflow:Unresolved object in checkpoint: (root).optimizer.iter\n",
      "WARNING:tensorflow:Unresolved object in checkpoint: (root).optimizer.beta_1\n",
      "WARNING:tensorflow:Unresolved object in checkpoint: (root).optimizer.beta_2\n",
      "WARNING:tensorflow:Unresolved object in checkpoint: (root).optimizer.decay\n",
      "WARNING:tensorflow:Unresolved object in checkpoint: (root).optimizer.learning_rate\n",
      "WARNING:tensorflow:Unresolved object in checkpoint: (root).optimizer's state 'm' for (root).layer_with_weights-0.embeddings\n",
      "WARNING:tensorflow:Unresolved object in checkpoint: (root).optimizer's state 'm' for (root).layer_with_weights-2.kernel\n",
      "WARNING:tensorflow:Unresolved object in checkpoint: (root).optimizer's state 'm' for (root).layer_with_weights-2.bias\n",
      "WARNING:tensorflow:Unresolved object in checkpoint: (root).optimizer's state 'm' for (root).layer_with_weights-1.cell.kernel\n",
      "WARNING:tensorflow:Unresolved object in checkpoint: (root).optimizer's state 'm' for (root).layer_with_weights-1.cell.recurrent_kernel\n",
      "WARNING:tensorflow:Unresolved object in checkpoint: (root).optimizer's state 'm' for (root).layer_with_weights-1.cell.bias\n",
      "WARNING:tensorflow:Unresolved object in checkpoint: (root).optimizer's state 'v' for (root).layer_with_weights-0.embeddings\n",
      "WARNING:tensorflow:Unresolved object in checkpoint: (root).optimizer's state 'v' for (root).layer_with_weights-2.kernel\n",
      "WARNING:tensorflow:Unresolved object in checkpoint: (root).optimizer's state 'v' for (root).layer_with_weights-2.bias\n",
      "WARNING:tensorflow:Unresolved object in checkpoint: (root).optimizer's state 'v' for (root).layer_with_weights-1.cell.kernel\n",
      "WARNING:tensorflow:Unresolved object in checkpoint: (root).optimizer's state 'v' for (root).layer_with_weights-1.cell.recurrent_kernel\n",
      "WARNING:tensorflow:Unresolved object in checkpoint: (root).optimizer's state 'v' for (root).layer_with_weights-1.cell.bias\n",
      "WARNING:tensorflow:A checkpoint was restored (e.g. tf.train.Checkpoint.restore or tf.keras.Model.load_weights) but not all checkpointed values were used. See above for specific issues. Use expect_partial() on the load status object, e.g. tf.train.Checkpoint.restore(...).expect_partial(), to silence these warnings, or use assert_consumed() to make the check explicit. See https://www.tensorflow.org/guide/checkpoint#loading_mechanics for details.\n",
      "WARNING:tensorflow:Unresolved object in checkpoint: (root).optimizer\n",
      "WARNING:tensorflow:Unresolved object in checkpoint: (root).optimizer.iter\n",
      "WARNING:tensorflow:Unresolved object in checkpoint: (root).optimizer.beta_1\n",
      "WARNING:tensorflow:Unresolved object in checkpoint: (root).optimizer.beta_2\n",
      "WARNING:tensorflow:Unresolved object in checkpoint: (root).optimizer.decay\n",
      "WARNING:tensorflow:Unresolved object in checkpoint: (root).optimizer.learning_rate\n",
      "WARNING:tensorflow:Unresolved object in checkpoint: (root).optimizer's state 'm' for (root).layer_with_weights-0.embeddings\n",
      "WARNING:tensorflow:Unresolved object in checkpoint: (root).optimizer's state 'm' for (root).layer_with_weights-2.kernel\n",
      "WARNING:tensorflow:Unresolved object in checkpoint: (root).optimizer's state 'm' for (root).layer_with_weights-2.bias\n",
      "WARNING:tensorflow:Unresolved object in checkpoint: (root).optimizer's state 'm' for (root).layer_with_weights-1.cell.kernel\n",
      "WARNING:tensorflow:Unresolved object in checkpoint: (root).optimizer's state 'm' for (root).layer_with_weights-1.cell.recurrent_kernel\n",
      "WARNING:tensorflow:Unresolved object in checkpoint: (root).optimizer's state 'm' for (root).layer_with_weights-1.cell.bias\n",
      "WARNING:tensorflow:Unresolved object in checkpoint: (root).optimizer's state 'v' for (root).layer_with_weights-0.embeddings\n",
      "WARNING:tensorflow:Unresolved object in checkpoint: (root).optimizer's state 'v' for (root).layer_with_weights-2.kernel\n",
      "WARNING:tensorflow:Unresolved object in checkpoint: (root).optimizer's state 'v' for (root).layer_with_weights-2.bias\n",
      "WARNING:tensorflow:Unresolved object in checkpoint: (root).optimizer's state 'v' for (root).layer_with_weights-1.cell.kernel\n",
      "WARNING:tensorflow:Unresolved object in checkpoint: (root).optimizer's state 'v' for (root).layer_with_weights-1.cell.recurrent_kernel\n",
      "WARNING:tensorflow:Unresolved object in checkpoint: (root).optimizer's state 'v' for (root).layer_with_weights-1.cell.bias\n",
      "WARNING:tensorflow:A checkpoint was restored (e.g. tf.train.Checkpoint.restore or tf.keras.Model.load_weights) but not all checkpointed values were used. See above for specific issues. Use expect_partial() on the load status object, e.g. tf.train.Checkpoint.restore(...).expect_partial(), to silence these warnings, or use assert_consumed() to make the check explicit. See https://www.tensorflow.org/guide/checkpoint#loading_mechanics for details.\n",
      "870/870 [==============================] - 347s 399ms/step - loss: 1.9091 - accuracy: 0.5170 - val_loss: 1.6456 - val_accuracy: 0.5936\n",
      "Epoch 2/20\n",
      "870/870 [==============================] - 349s 401ms/step - loss: 1.0666 - accuracy: 0.7166 - val_loss: 1.4855 - val_accuracy: 0.6271\n",
      "Epoch 3/20\n",
      "870/870 [==============================] - 350s 402ms/step - loss: 0.8947 - accuracy: 0.7574 - val_loss: 1.4781 - val_accuracy: 0.6431\n",
      "Epoch 4/20\n",
      "870/870 [==============================] - 351s 403ms/step - loss: 0.8058 - accuracy: 0.7792 - val_loss: 1.4543 - val_accuracy: 0.6465\n",
      "Epoch 5/20\n",
      "870/870 [==============================] - 351s 403ms/step - loss: 0.7452 - accuracy: 0.7943 - val_loss: 1.4809 - val_accuracy: 0.6505\n",
      "Epoch 6/20\n",
      "870/870 [==============================] - 350s 402ms/step - loss: 0.7005 - accuracy: 0.8055 - val_loss: 1.4663 - val_accuracy: 0.6549\n",
      "Epoch 7/20\n",
      "870/870 [==============================] - 349s 402ms/step - loss: 0.6645 - accuracy: 0.8149 - val_loss: 1.4818 - val_accuracy: 0.6539\n",
      "Epoch 8/20\n",
      "870/870 [==============================] - 350s 402ms/step - loss: 0.6346 - accuracy: 0.8227 - val_loss: 1.4971 - val_accuracy: 0.6559\n",
      "Epoch 9/20\n",
      "870/870 [==============================] - 350s 402ms/step - loss: 0.6099 - accuracy: 0.8292 - val_loss: 1.5259 - val_accuracy: 0.6571\n",
      "Epoch 10/20\n",
      "870/870 [==============================] - 350s 403ms/step - loss: 0.5894 - accuracy: 0.8349 - val_loss: 1.5306 - val_accuracy: 0.6589\n",
      "Epoch 11/20\n",
      "870/870 [==============================] - 352s 404ms/step - loss: 0.5714 - accuracy: 0.8398 - val_loss: 1.5606 - val_accuracy: 0.6536\n",
      "Epoch 12/20\n",
      "870/870 [==============================] - 351s 403ms/step - loss: 0.5581 - accuracy: 0.8433 - val_loss: 1.5774 - val_accuracy: 0.6523\n",
      "Epoch 13/20\n",
      "870/870 [==============================] - 348s 401ms/step - loss: 0.5426 - accuracy: 0.8475 - val_loss: 1.5825 - val_accuracy: 0.6526\n",
      "Epoch 14/20\n",
      "870/870 [==============================] - 350s 402ms/step - loss: 0.5311 - accuracy: 0.8508 - val_loss: 1.6064 - val_accuracy: 0.6516\n",
      "Epoch 15/20\n",
      "870/870 [==============================] - 351s 403ms/step - loss: 0.5203 - accuracy: 0.8539 - val_loss: 1.6266 - val_accuracy: 0.6527\n",
      "Epoch 16/20\n",
      "870/870 [==============================] - 350s 402ms/step - loss: 0.5119 - accuracy: 0.8562 - val_loss: 1.6266 - val_accuracy: 0.6546\n",
      "Epoch 17/20\n",
      "870/870 [==============================] - 351s 404ms/step - loss: 0.5046 - accuracy: 0.8581 - val_loss: 1.6625 - val_accuracy: 0.6510\n",
      "Epoch 18/20\n",
      "870/870 [==============================] - 351s 403ms/step - loss: 0.4980 - accuracy: 0.8600 - val_loss: 1.6777 - val_accuracy: 0.6500\n",
      "Epoch 19/20\n",
      "870/870 [==============================] - 348s 400ms/step - loss: 0.4927 - accuracy: 0.8615 - val_loss: 1.6702 - val_accuracy: 0.6494\n",
      "Epoch 20/20\n",
      "870/870 [==============================] - 349s 402ms/step - loss: 0.4871 - accuracy: 0.8631 - val_loss: 1.6779 - val_accuracy: 0.6479\n"
     ]
    }
   ],
   "source": [
    "history_lstm_two_layer = model_lstm_two_layer.fit(train_dataset, epochs=EPOCHS, callbacks=[checkpoint_callback_lstm_two_layer],validation_data=test_dataset)"
   ]
  },
  {
   "cell_type": "markdown",
   "metadata": {
    "colab_type": "text",
    "id": "nHSZ8MlGQh2K"
   },
   "source": [
    "**Single layer GRU**"
   ]
  },
  {
   "cell_type": "code",
   "execution_count": 134,
   "metadata": {
    "colab": {
     "base_uri": "https://localhost:8080/"
    },
    "colab_type": "code",
    "id": "Hlldb5aBguIB",
    "outputId": "8306d585-fe6a-48ed-a17e-784951a19e66"
   },
   "outputs": [
    {
     "name": "stdout",
     "output_type": "stream",
     "text": [
      "Epoch 1/20\n",
      "870/870 [==============================] - 129s 149ms/step - loss: 1.8264 - accuracy: 0.5463 - val_loss: 1.6324 - val_accuracy: 0.6026\n",
      "Epoch 2/20\n",
      "870/870 [==============================] - 130s 149ms/step - loss: 1.0676 - accuracy: 0.7181 - val_loss: 1.5193 - val_accuracy: 0.6300\n",
      "Epoch 3/20\n",
      "870/870 [==============================] - 131s 150ms/step - loss: 0.9133 - accuracy: 0.7546 - val_loss: 1.4865 - val_accuracy: 0.6407\n",
      "Epoch 4/20\n",
      "870/870 [==============================] - 131s 150ms/step - loss: 0.8388 - accuracy: 0.7731 - val_loss: 1.4896 - val_accuracy: 0.6407\n",
      "Epoch 5/20\n",
      "870/870 [==============================] - 131s 150ms/step - loss: 0.7901 - accuracy: 0.7853 - val_loss: 1.4914 - val_accuracy: 0.6484\n",
      "Epoch 6/20\n",
      "870/870 [==============================] - 130s 150ms/step - loss: 0.7577 - accuracy: 0.7935 - val_loss: 1.5129 - val_accuracy: 0.6471\n",
      "Epoch 7/20\n",
      "870/870 [==============================] - 131s 150ms/step - loss: 0.7352 - accuracy: 0.7993 - val_loss: 1.5362 - val_accuracy: 0.6436\n",
      "Epoch 8/20\n",
      "870/870 [==============================] - 130s 149ms/step - loss: 0.7198 - accuracy: 0.8031 - val_loss: 1.5641 - val_accuracy: 0.6439\n",
      "Epoch 9/20\n",
      "870/870 [==============================] - 130s 149ms/step - loss: 0.7098 - accuracy: 0.8057 - val_loss: 1.5599 - val_accuracy: 0.6463\n",
      "Epoch 10/20\n",
      "870/870 [==============================] - 130s 149ms/step - loss: 0.7021 - accuracy: 0.8077 - val_loss: 1.5709 - val_accuracy: 0.6456\n",
      "Epoch 11/20\n",
      "870/870 [==============================] - 130s 150ms/step - loss: 0.6983 - accuracy: 0.8084 - val_loss: 1.5881 - val_accuracy: 0.6461\n",
      "Epoch 12/20\n",
      "870/870 [==============================] - 130s 150ms/step - loss: 0.6960 - accuracy: 0.8089 - val_loss: 1.5693 - val_accuracy: 0.6488\n",
      "Epoch 13/20\n",
      "870/870 [==============================] - 130s 149ms/step - loss: 0.6956 - accuracy: 0.8088 - val_loss: 1.5828 - val_accuracy: 0.6462\n",
      "Epoch 14/20\n",
      "870/870 [==============================] - 129s 149ms/step - loss: 0.6976 - accuracy: 0.8082 - val_loss: 1.5799 - val_accuracy: 0.6457\n",
      "Epoch 15/20\n",
      "870/870 [==============================] - 130s 150ms/step - loss: 0.7017 - accuracy: 0.8071 - val_loss: 1.6006 - val_accuracy: 0.6444\n",
      "Epoch 16/20\n",
      "870/870 [==============================] - 130s 149ms/step - loss: 0.7077 - accuracy: 0.8053 - val_loss: 1.5943 - val_accuracy: 0.6416\n",
      "Epoch 17/20\n",
      "870/870 [==============================] - 130s 150ms/step - loss: 0.7127 - accuracy: 0.8037 - val_loss: 1.5956 - val_accuracy: 0.6418\n",
      "Epoch 18/20\n",
      "870/870 [==============================] - 131s 150ms/step - loss: 0.7233 - accuracy: 0.8007 - val_loss: 1.6113 - val_accuracy: 0.6406\n",
      "Epoch 19/20\n",
      "870/870 [==============================] - 130s 150ms/step - loss: 0.7763 - accuracy: 0.7871 - val_loss: 1.6296 - val_accuracy: 0.6339\n",
      "Epoch 20/20\n",
      "870/870 [==============================] - 130s 149ms/step - loss: 0.8176 - accuracy: 0.7757 - val_loss: 1.6108 - val_accuracy: 0.6314\n"
     ]
    }
   ],
   "source": [
    "history_gru_one_layer = model_gru_one_layer.fit(train_dataset, epochs=EPOCHS, callbacks=[checkpoint_callback_gru_one_layer],validation_data=test_dataset)"
   ]
  },
  {
   "cell_type": "markdown",
   "metadata": {
    "colab_type": "text",
    "id": "aUHSqyz0ORd2"
   },
   "source": [
    "# Result"
   ]
  },
  {
   "cell_type": "markdown",
   "metadata": {
    "colab_type": "text",
    "id": "y_sEmahxRTUI"
   },
   "source": [
    "**Restore the latest checkpoint**"
   ]
  },
  {
   "cell_type": "code",
   "execution_count": 0,
   "metadata": {
    "colab": {},
    "colab_type": "code",
    "id": "PeWYRCiY_rNV"
   },
   "outputs": [],
   "source": [
    "model_simple_rnn = build_simple_rnn(vocab_size, embedding_dim, rnn_units, batch_size=1)\n",
    "\n",
    "model_simple_rnn.load_weights(tf.train.latest_checkpoint(checkpoint_dir_simple_rnn))\n",
    "\n",
    "model_simple_rnn.build(tf.TensorShape([1, None]))"
   ]
  },
  {
   "cell_type": "code",
   "execution_count": 0,
   "metadata": {
    "colab": {},
    "colab_type": "code",
    "id": "3LBhdLmi_rUe"
   },
   "outputs": [],
   "source": [
    "model_lstm_one_layer = build_lstm_one_layer(vocab_size, embedding_dim, rnn_units, batch_size=1)\n",
    "\n",
    "model_lstm_one_layer.load_weights(tf.train.latest_checkpoint(checkpoint_dir_lstm_one_layer))\n",
    "\n",
    "model_lstm_one_layer.build(tf.TensorShape([1, None]))"
   ]
  },
  {
   "cell_type": "code",
   "execution_count": 0,
   "metadata": {
    "colab": {},
    "colab_type": "code",
    "id": "Ltab8adq_rc0"
   },
   "outputs": [],
   "source": [
    "model_lstm_two_layer = build_lstm_two_layer(vocab_size, embedding_dim, rnn_units, batch_size=1)\n",
    "\n",
    "model_lstm_two_layer.load_weights(tf.train.latest_checkpoint(checkpoint_dir_lstm_two_layer))\n",
    "\n",
    "model_lstm_two_layer.build(tf.TensorShape([1, None]))"
   ]
  },
  {
   "cell_type": "code",
   "execution_count": 0,
   "metadata": {
    "colab": {},
    "colab_type": "code",
    "id": "jbwJ1S-7y9X6"
   },
   "outputs": [],
   "source": [
    "model_gru_one_layer = build_gru_one_layer(vocab_size, embedding_dim, rnn_units, batch_size=1)\n",
    "\n",
    "model_gru_one_layer.load_weights(tf.train.latest_checkpoint(checkpoint_dir_gru_one_layer))\n",
    "\n",
    "model_gru_one_layer.build(tf.TensorShape([1, None]))"
   ]
  },
  {
   "cell_type": "markdown",
   "metadata": {
    "colab_type": "text",
    "id": "CdAaG7_XRju3"
   },
   "source": [
    "**Genereted text**"
   ]
  },
  {
   "cell_type": "code",
   "execution_count": 0,
   "metadata": {
    "colab": {},
    "colab_type": "code",
    "id": "GJ2L_9ixyUZg"
   },
   "outputs": [],
   "source": [
    "# Generate result text with using model specified in task\n",
    "def generate_text(model, start_string):\n",
    "  # Evaluation step (generating text using the learned model)\n",
    "  # Number of characters to generate\n",
    "  num_generate = 1000\n",
    "  # Converting our start string to numbers (vectorizing)\n",
    "  input_eval = [char2idx[s] for s in start_string]\n",
    "  input_eval = tf.expand_dims(input_eval, 0)\n",
    "  # Empty string to store our results\n",
    "  text_generated = []\n",
    "\n",
    "  # Low temperatures results in more predictable text.\n",
    "  # Higher temperatures results in more surprising text.\n",
    "  # Experiment to find the best setting.\n",
    "  temperature = 1.0\n",
    "\n",
    "  # Here batch size == 1\n",
    "  model.reset_states()\n",
    "  for i in range(num_generate):\n",
    "      predictions = model(input_eval)\n",
    "      # remove the batch dimension\n",
    "      predictions = tf.squeeze(predictions, 0)\n",
    "\n",
    "      # using a categorical distribution to predict the character returned by the model\n",
    "      predictions = predictions / temperature\n",
    "      predicted_id = tf.random.categorical(predictions, num_samples=1)[-1,0].numpy()\n",
    "\n",
    "      # We pass the predicted character as the next input to the model\n",
    "      # along with the previous hidden state\n",
    "      input_eval = tf.expand_dims([predicted_id], 0)\n",
    "\n",
    "      text_generated.append(idx2char[predicted_id])\n",
    "\n",
    "  return (start_string + ''.join(text_generated))"
   ]
  },
  {
   "cell_type": "markdown",
   "metadata": {
    "colab_type": "text",
    "id": "K9pWZ-NuRnh-"
   },
   "source": [
    "**Simple RNN**"
   ]
  },
  {
   "cell_type": "code",
   "execution_count": 154,
   "metadata": {
    "colab": {
     "base_uri": "https://localhost:8080/",
     "height": 445
    },
    "colab_type": "code",
    "id": "7aysM-VNhXSR",
    "outputId": "bf8e877c-a005-4b38-de1a-d838c41d1db3"
   },
   "outputs": [
    {
     "name": "stdout",
     "output_type": "stream",
     "text": [
      "int main() {\n",
      "            return false;\n",
      "            }\n",
      "        g format 3 for: In ED context.\n",
      "    float       FontSize = NavFocusScase Bread for the element toole vertical be field. We need the last clipping coordinates the End(todalanential Meter...\" mImHove/DER(HwStream*(params.looksItem());\n",
      "    glTexParameters(), so that is object (getInstFlags_Too char* OSPATIECCOR,\n",
      "        re.TextureUsage::COLOR\n",
      "    #elif defined(IMGUI_IMPL_OPENGL_PLATFORM_VK_LUNCE_H\n",
      "/*\n",
      " * Copyright {\n",
      "        std::math from the License at\n",
      " *\n",
      " *  = 1048.0f;\n",
      "        g->under the License is distributed on an \"AS IS\" BASIS,\n",
      " * WITHOUT WARRANTIES OR CONDITIONS OF ANY KIND, either express or is first,\n",
      "   rsd;\n",
      "    fool bpt(&event(tquery[2], float x0 = v7;\n",
      "\n",
      "\tfloat3 tpc3 = c;\n",
      "   stbtt_BakeClamp(state.root);\n",
      "         if (stbtt__toushort4 *levelst{sorted it for destruction\n",
      " * of the result for calling OpenGLDriver::update(EGLSurface, etc.)\n",
      "\n",
      "// EVt.O/ \"IEF \"     if (n <= kalloc_unt(queue[2], column_nSet:        // The field of GLenum> Ope\n"
     ]
    }
   ],
   "source": [
    "print(generate_text(model_simple_rnn, start_string=\"int main() \"))"
   ]
  },
  {
   "cell_type": "markdown",
   "metadata": {
    "colab_type": "text",
    "id": "w_VUf8YbRps9"
   },
   "source": [
    "**Single layer LSTM**"
   ]
  },
  {
   "cell_type": "code",
   "execution_count": 155,
   "metadata": {
    "colab": {
     "base_uri": "https://localhost:8080/",
     "height": 510
    },
    "colab_type": "code",
    "id": "ecjBoumxALHo",
    "outputId": "39d18816-6260-47d8-e5c6-cbe4223b624a"
   },
   "outputs": [
    {
     "name": "stdout",
     "output_type": "stream",
     "text": [
      "int main() to create the passed-in ES2\n",
      "         a Shadows..\n",
      "        LOON_FALL = -Flags, GLSLING_NONE, GL_DOUBLE_DATA, GL_TEXTURE_CUBE_MAP_NEGARIEXT),\n",
      "                          (vector) / frame_padding;\n",
      "                if (major != &pass) {\n",
      "                    if (renderer == rhs.begin() {\n",
      "                    t---------------------------------------------------------------//\n",
      "#include \"private/backend/DriverAPI.inc\"\n",
      "\n",
      "#include \"private/backend/OpenGLPlatform.h\"\n",
      "\n",
      "namespace filament {\n",
      "\n",
      "using namespace int k;\n",
      "            ising element_SHADER_BUFFERS;\n",
      "                break;\n",
      "            case GL_SAMPLER_BINDING:\n",
      "                t->gl.id = 0;\n",
      "                break;\n",
      "            case GL_DEBUG:\n",
      "                numSampler = ColorPickerRef(MetalContext& context, const char* line);\n",
      "\n",
      "    /**\n",
      "     * Denotes that the right part thread\n",
      "         * phi(0),250 + 10.0203) - 1;\n",
      "    else if (hashstr.enabled.\n",
      "     */\n",
      "    void setSunAngularRadius(Instance i, float angularRadius) noexcept final {}\n",
      "    virtualSize = mesh.vert\n"
     ]
    }
   ],
   "source": [
    "print(generate_text(model_lstm_one_layer, start_string=\"int main() \"))"
   ]
  },
  {
   "cell_type": "markdown",
   "metadata": {
    "colab_type": "text",
    "id": "VCpcz8-gRtz9"
   },
   "source": [
    "**Double layer LSTM**"
   ]
  },
  {
   "cell_type": "code",
   "execution_count": 156,
   "metadata": {
    "colab": {
     "base_uri": "https://localhost:8080/",
     "height": 496
    },
    "colab_type": "code",
    "id": "FD8P2qPqALMa",
    "outputId": "6297cb58-f088-4e38-ca09-daeaf1962395"
   },
   "outputs": [
    {
     "name": "stdout",
     "output_type": "stream",
     "text": [
      "int main() {\n",
      "    int num12 = { 0 }\n",
      "    void        (*inS_xel_char_point);\n",
      "   if (scale_min == FLT_MAX || bos != NULL) continue;\n",
      "                }\n",
      "            }\n",
      "            ImGui::DataTypeAbloc2(0,0.0f, 0.0f);\n",
      "        DragDropAcceptWindow = 0,\n",
      "    ImGuiID         DisplayWindowBorder;\n",
      "            mVertexShader = glCreateShader(GL_VERTEX_SHADER);\n",
      "    }\n",
      "    if (any(buffers & TargetBufferFlags::DEPTH)) {\n",
      "        assert(!sp.padding1);\n",
      "        assert(t->gl.internalFormat)\n",
      "            .intensity(params.lightId);\n",
      "    {\n",
      "        if (!hasRChannel(auto& resource){\n",
      "        return (config.shaderIndex > count) {\n",
      "            gl.deleteLoader(mat3f(rcs.z);\n",
      "    float3 e = env->GetFloatArrayElements(out_, out, 0);\n",
      "}\n",
      "\n",
      "extern \"C\"\n",
      "JNIEXPORT jint JNICALL\n",
      "Java_com_google_android_filament_filamat_MaterialBuilder_nMaterialBuilderUniformPatch(JNIEnv*, jclass, jlong nativeBuilder, jfloat wrap_pos_x) cons as sed\n",
      "// also githmber in binary forward in a form queue.\n",
      "    if (!(flags & ImGuiColorEditFlags__PickerMask) ? g.ColorEdit\n"
     ]
    }
   ],
   "source": [
    "print(generate_text(model_lstm_two_layer, start_string=\"int main() \"))"
   ]
  },
  {
   "cell_type": "markdown",
   "metadata": {
    "colab_type": "text",
    "id": "cyYkKanCRxOH"
   },
   "source": [
    "**Single layer GRU**"
   ]
  },
  {
   "cell_type": "code",
   "execution_count": 157,
   "metadata": {
    "colab": {
     "base_uri": "https://localhost:8080/",
     "height": 428
    },
    "colab_type": "code",
    "id": "wK2DiHcHALuz",
    "outputId": "7e824573-e6fe-433e-a4be-f915e348ae64"
   },
   "outputs": [
    {
     "name": "stdout",
     "output_type": "stream",
     "text": [
      "int main() {\n",
      "       // equad node  MTLRew);\n",
      "        else if (Builder.nerSurface(JNIEnv*, jclass,\n",
      "        jlong nativeBuilder, jint shaderIntersition;\n",
      "    delete mDisplayXTART20; }\n",
      "\n",
      "int fabils::setData(int ntext;\n",
      "// 2 ? OpenGLConnect::LUMAN_OISATILITY();\n",
      "    return  undletull at the mote image/buffer information.\n",
      "    ImGuiStyleVar_ImGui] = 0;\n",
      "    glCoreFormat = Right lights, VkRepectance isn't &uint8_t nandleDepthTources\n",
      "{\n",
      "    int optionID(ImGuiDataType data_type, void**popup, (void*)()\n",
      "\n",
      "#define THRENDERANExt;\n",
      "\t\tei->ep.endpt0[i].w = 10.9f elment\n",
      "// --------------------------------------------------------------------------------------------------------------------------------------------------------------------------------------------------------------------------------------\n",
      "// [Internal]\n",
      "// - InputTextExtent() const { return *A_HDR_ASTC_5x4) == ImImover|num // [DEBUG] Many scrollaw with doing the same line\n",
      "        // [   |              ^ 8\n",
      "#endif\n",
      "\n",
      "#include \"astetic_cast < prev_output && src == 16\n"
     ]
    }
   ],
   "source": [
    "print(generate_text(model_gru_one_layer, start_string=\"int main() \"))"
   ]
  },
  {
   "cell_type": "markdown",
   "metadata": {
    "colab_type": "text",
    "id": "JknmDG4ZRz_U"
   },
   "source": [
    "**Visualize metrics**"
   ]
  },
  {
   "cell_type": "code",
   "execution_count": 0,
   "metadata": {
    "colab": {},
    "colab_type": "code",
    "id": "C9YRecFeUF-6"
   },
   "outputs": [],
   "source": [
    "def plot_metrics(history, key_list,title_fig = '', name_save='fig'):\n",
    "  count_key = len(key_list)\n",
    "  fig, axs = plt.subplots(nrows=1,ncols =count_key, figsize=(12,6))\n",
    "  plt.subplots_adjust(wspace=0.25, hspace=0)\n",
    "  fig.suptitle(title_fig, fontsize=16)\n",
    "  if count_key > 1:\n",
    "    for i,key in enumerate(key_list):\n",
    "      axs[i].plot(history.history[key],label=f'train {key}',color='grey')\n",
    "      axs[i].plot(history.history[f'val_{key}'],label=f'test {key}',color='red')\n",
    "      axs[i].set_title(f'metrics -- {key}')\n",
    "      \n",
    "      axs[i].set_ylabel(f'{key}')\n",
    "      axs[i].legend()\n",
    "  else:\n",
    "    key = key_list[0]\n",
    "    axs.plot(history.history[key],label=f'train {key}',color='grey')\n",
    "    axs.plot(history.history[f'val_{key}'],label=f'test {key}',color='red')\n",
    "      \n",
    "    axs.set_title(f'metrics -- {key}')\n",
    "    axs.set_ylabel(f'{key}')\n",
    "    axs.legend()\n",
    "  \n",
    "  fig.savefig(f'{path}img/metrics_{name_save}.png')"
   ]
  },
  {
   "cell_type": "code",
   "execution_count": 0,
   "metadata": {
    "colab": {},
    "colab_type": "code",
    "id": "HxbgQWlRYuBO"
   },
   "outputs": [],
   "source": [
    "metrics_list = ['loss','accuracy']"
   ]
  },
  {
   "cell_type": "code",
   "execution_count": 150,
   "metadata": {
    "colab": {
     "base_uri": "https://localhost:8080/",
     "height": 417
    },
    "colab_type": "code",
    "id": "1gAPxvfoVUoe",
    "outputId": "a304eafc-8fb0-4927-9ebe-e3a165b722ad"
   },
   "outputs": [
    {
     "data": {
      "image/png": "[encoded data removed]",
      "text/plain": [
       "<Figure size 864x432 with 2 Axes>"
      ]
     },
     "metadata": {
      "needs_background": "light",
      "tags": []
     },
     "output_type": "display_data"
    }
   ],
   "source": [
    "plot_metrics(history_simple_rnn, metrics_list, title_fig = 'Simple RNN', name_save='simple_rnn' )"
   ]
  },
  {
   "cell_type": "code",
   "execution_count": 153,
   "metadata": {
    "colab": {
     "base_uri": "https://localhost:8080/",
     "height": 417
    },
    "colab_type": "code",
    "id": "jRBBwMUGVaDZ",
    "outputId": "3a883988-d1a4-42d1-fdae-764bbddd9364"
   },
   "outputs": [
    {
     "data": {
      "image/png": "[encoded data removed]",
      "text/plain": [
       "<Figure size 864x432 with 2 Axes>"
      ]
     },
     "metadata": {
      "needs_background": "light",
      "tags": []
     },
     "output_type": "display_data"
    }
   ],
   "source": [
    "plot_metrics(history_lstm_one_layer, metrics_list, title_fig = 'Single layer LSTM', name_save='singel_layer_lstm' )"
   ]
  },
  {
   "cell_type": "code",
   "execution_count": 151,
   "metadata": {
    "colab": {
     "base_uri": "https://localhost:8080/",
     "height": 417
    },
    "colab_type": "code",
    "id": "CH_iRHX-XCZR",
    "outputId": "a8ed2e5b-2e3a-4359-82c4-c0d3cd3c1145"
   },
   "outputs": [
    {
     "data": {
      "image/png": "[encoded data removed]",
      "text/plain": [
       "<Figure size 864x432 with 2 Axes>"
      ]
     },
     "metadata": {
      "needs_background": "light",
      "tags": []
     },
     "output_type": "display_data"
    }
   ],
   "source": [
    "plot_metrics(history_lstm_two_layer, metrics_list, title_fig = 'Double layer LSTM', name_save='double_layer_lstm' )"
   ]
  },
  {
   "cell_type": "code",
   "execution_count": 152,
   "metadata": {
    "colab": {
     "base_uri": "https://localhost:8080/",
     "height": 417
    },
    "colab_type": "code",
    "id": "ShajavkYZZmw",
    "outputId": "5e25466c-a4d6-4330-fdee-0c7fa8d22ea3"
   },
   "outputs": [
    {
     "data": {
      "image/png": "[encoded data removed]",
      "text/plain": [
       "<Figure size 864x432 with 2 Axes>"
      ]
     },
     "metadata": {
      "needs_background": "light",
      "tags": []
     },
     "output_type": "display_data"
    }
   ],
   "source": [
    "plot_metrics(history_gru_one_layer, metrics_list, title_fig = 'Single layer GRU', name_save='single_layer_gru' )"
   ]
  },
  {
   "cell_type": "code",
   "execution_count": 0,
   "metadata": {
    "colab": {},
    "colab_type": "code",
    "id": "tNKl29jBr7Xz"
   },
   "outputs": [],
   "source": []
  }
 ],
 "metadata": {
  "accelerator": "GPU",
  "colab": {
   "collapsed_sections": [],
   "name": "Models.ipynb",
   "provenance": [],
   "toc_visible": true
  },
  "kernelspec": {
   "display_name": "Python 3",
   "language": "python",
   "name": "python3"
  },
  "language_info": {
   "codemirror_mode": {
    "name": "ipython",
    "version": 3
   },
   "file_extension": ".py",
   "mimetype": "text/x-python",
   "name": "python",
   "nbconvert_exporter": "python",
   "pygments_lexer": "ipython3",
   "version": "3.7.3"
  }
 },
 "nbformat": 4,
 "nbformat_minor": 1
}
